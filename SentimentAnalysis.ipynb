{
 "cells": [
  {
   "cell_type": "markdown",
   "id": "d273469a",
   "metadata": {},
   "source": [
    "# <center> Drug Review Analysis </center>"
   ]
  },
  {
   "cell_type": "markdown",
   "id": "fe6205ea",
   "metadata": {},
   "source": [
    "## About the Notebook"
   ]
  },
  {
   "cell_type": "markdown",
   "id": "f8cb04fc",
   "metadata": {},
   "source": [
    "The notebook was created to analyse the drug review dataset from kaggle."
   ]
  },
  {
   "cell_type": "markdown",
   "id": "5364da96",
   "metadata": {},
   "source": [
    "## The Dataset Description"
   ]
  },
  {
   "cell_type": "markdown",
   "id": "dc2072d5",
   "metadata": {},
   "source": [
    "We downloaded our Drug Review Dataset dataset from Kaggle, but originally it was taken from the UCI Machine Learning Repository. The data was obtained by crawling online pharmaceutical review sites. This Dataset provides patient reviews on 3671 differents drugs for specific conditions. Along with the review, the patiemt also rate the madication with a numeric rating from 1 to 10. Here are the features :\n",
    "\n",
    "UniqueID : Unique ID for each record. There are a total of 215,063 unique IDs in the dataset. \n",
    "\n",
    "DrugName: The name of the specific dru. There are total 3671 unique drugs in the dataset.\n",
    "\n",
    "Condition: The medical condition of the user under which the drug has been consumed. There are a total of 917 unique conditions.\n",
    "\n",
    "Review: Review written by the users of the drugs used for a specified condition. There are a total of 128478 distinct reviews.\n",
    "\n",
    "Rating: The rating given by the customer from 1 to 10 to a drug for a condition.\n",
    "\n",
    "Date: Date on which the review has been entered. Date range is 02/24/2008-12/11/2017.\n",
    "\n",
    "UsefulCount:  It is the number of people who found the rating and review of a customer relevant and helpful. The range of useful count is 0-1291.\n"
   ]
  },
  {
   "cell_type": "markdown",
   "id": "6c62aece",
   "metadata": {},
   "source": [
    "## Libraries Used "
   ]
  },
  {
   "cell_type": "code",
   "execution_count": 128,
   "id": "b425144e",
   "metadata": {},
   "outputs": [],
   "source": [
    "import pandas as pd\n",
    "from textblob import TextBlob\n",
    "from nltk.sentiment import SentimentIntensityAnalyzer\n",
    "from nltk.stem.porter import *\n",
    "import numpy as np\n",
    "from matplotlib import pyplot\n",
    "from sklearn.model_selection import train_test_split\n",
    "\n",
    "import matplotlib.pyplot as plt\n",
    "import seaborn as sns\n",
    "\n",
    "from sklearn import metrics\n",
    "from sklearn.metrics import mean_squared_error\n",
    "from sklearn.metrics import r2_score\n",
    "\n",
    "import nltk\n",
    "import nltk.corpus\n",
    "from nltk.tokenize import word_tokenize \n",
    "from nltk.corpus import stopwords\n",
    "from nltk.stem import PorterStemmer\n",
    "import string\n",
    "from scipy import stats\n",
    "\n",
    "from sklearn import model_selection\n",
    "from sklearn.naive_bayes import MultinomialNB\n",
    "from sklearn.linear_model import LogisticRegression\n",
    "from sklearn.neighbors import KNeighborsClassifier\n",
    "from sklearn.tree import DecisionTreeClassifier\n",
    "from sklearn.ensemble import RandomForestClassifier\n",
    "from xgboost import XGBClassifier\n",
    "\n",
    "from sklearn.metrics import confusion_matrix\n",
    "from sklearn.metrics import accuracy_score, precision_score, recall_score, f1_score\n",
    "from sklearn.metrics import classification_report\n"
   ]
  },
  {
   "cell_type": "markdown",
   "id": "35a9a01f",
   "metadata": {},
   "source": [
    "## Set Up Pandas Options"
   ]
  },
  {
   "cell_type": "code",
   "execution_count": 2,
   "id": "5838abe9",
   "metadata": {},
   "outputs": [],
   "source": [
    "Setting Display option for rows & columns\n",
    "pd.set_option('display.max_columns', 10)\n",
    "pd.set_option('display.max_rows', 10)\n",
    "pd.set_option('display.min_rows', 5)\n",
    "#pd.set_option('display.expand_frame_repr', True)"
   ]
  },
  {
   "cell_type": "markdown",
   "id": "7e4024af",
   "metadata": {},
   "source": [
    "## Loading the Data"
   ]
  },
  {
   "cell_type": "code",
   "execution_count": 3,
   "id": "37aab489",
   "metadata": {},
   "outputs": [
    {
     "data": {
      "text/plain": [
       "161297"
      ]
     },
     "execution_count": 3,
     "metadata": {},
     "output_type": "execute_result"
    }
   ],
   "source": [
    "data_train = pd.read_csv(\"drugreview/drugscomtrain_raw.csv\", index_col = \"uniqueID\") #, low_memory=False, nrows=100\n",
    "len(data_train)"
   ]
  },
  {
   "cell_type": "code",
   "execution_count": 4,
   "id": "20919e2a",
   "metadata": {},
   "outputs": [
    {
     "data": {
      "text/plain": [
       "53766"
      ]
     },
     "execution_count": 4,
     "metadata": {},
     "output_type": "execute_result"
    }
   ],
   "source": [
    "data_test = pd.read_csv(\"drugreview/drugscomtest_raw.csv\", index_col = \"uniqueID\") #, low_memory=False, nrows=100\n",
    "len(data_test)"
   ]
  },
  {
   "cell_type": "code",
   "execution_count": 5,
   "id": "26ac5a72",
   "metadata": {},
   "outputs": [],
   "source": [
    "data = pd.concat([data_train, data_test])"
   ]
  },
  {
   "cell_type": "code",
   "execution_count": 6,
   "id": "59b1ff4e",
   "metadata": {},
   "outputs": [
    {
     "data": {
      "text/html": [
       "<div>\n",
       "<style scoped>\n",
       "    .dataframe tbody tr th:only-of-type {\n",
       "        vertical-align: middle;\n",
       "    }\n",
       "\n",
       "    .dataframe tbody tr th {\n",
       "        vertical-align: top;\n",
       "    }\n",
       "\n",
       "    .dataframe thead th {\n",
       "        text-align: right;\n",
       "    }\n",
       "</style>\n",
       "<table border=\"1\" class=\"dataframe\">\n",
       "  <thead>\n",
       "    <tr style=\"text-align: right;\">\n",
       "      <th></th>\n",
       "      <th>drugName</th>\n",
       "      <th>condition</th>\n",
       "      <th>review</th>\n",
       "      <th>rating</th>\n",
       "      <th>date</th>\n",
       "      <th>usefulCount</th>\n",
       "    </tr>\n",
       "    <tr>\n",
       "      <th>uniqueID</th>\n",
       "      <th></th>\n",
       "      <th></th>\n",
       "      <th></th>\n",
       "      <th></th>\n",
       "      <th></th>\n",
       "      <th></th>\n",
       "    </tr>\n",
       "  </thead>\n",
       "  <tbody>\n",
       "    <tr>\n",
       "      <th>206461</th>\n",
       "      <td>Valsartan</td>\n",
       "      <td>Left Ventricular Dysfunction</td>\n",
       "      <td>\"It has no side effect, I take it in combinati...</td>\n",
       "      <td>9</td>\n",
       "      <td>20-May-12</td>\n",
       "      <td>27</td>\n",
       "    </tr>\n",
       "    <tr>\n",
       "      <th>95260</th>\n",
       "      <td>Guanfacine</td>\n",
       "      <td>ADHD</td>\n",
       "      <td>\"My son is halfway through his fourth week of ...</td>\n",
       "      <td>8</td>\n",
       "      <td>27-Apr-10</td>\n",
       "      <td>192</td>\n",
       "    </tr>\n",
       "    <tr>\n",
       "      <th>92703</th>\n",
       "      <td>Lybrel</td>\n",
       "      <td>Birth Control</td>\n",
       "      <td>\"I used to take another oral contraceptive, wh...</td>\n",
       "      <td>5</td>\n",
       "      <td>14-Dec-09</td>\n",
       "      <td>17</td>\n",
       "    </tr>\n",
       "    <tr>\n",
       "      <th>138000</th>\n",
       "      <td>Ortho Evra</td>\n",
       "      <td>Birth Control</td>\n",
       "      <td>\"This is my first time using any form of birth...</td>\n",
       "      <td>8</td>\n",
       "      <td>3-Nov-15</td>\n",
       "      <td>10</td>\n",
       "    </tr>\n",
       "    <tr>\n",
       "      <th>35696</th>\n",
       "      <td>Buprenorphine / naloxone</td>\n",
       "      <td>Opiate Dependence</td>\n",
       "      <td>\"Suboxone has completely turned my life around...</td>\n",
       "      <td>9</td>\n",
       "      <td>27-Nov-16</td>\n",
       "      <td>37</td>\n",
       "    </tr>\n",
       "    <tr>\n",
       "      <th>...</th>\n",
       "      <td>...</td>\n",
       "      <td>...</td>\n",
       "      <td>...</td>\n",
       "      <td>...</td>\n",
       "      <td>...</td>\n",
       "      <td>...</td>\n",
       "    </tr>\n",
       "    <tr>\n",
       "      <th>159999</th>\n",
       "      <td>Tamoxifen</td>\n",
       "      <td>Breast Cancer, Prevention</td>\n",
       "      <td>\"I have taken Tamoxifen for 5 years. Side effe...</td>\n",
       "      <td>10</td>\n",
       "      <td>13-Sep-14</td>\n",
       "      <td>43</td>\n",
       "    </tr>\n",
       "    <tr>\n",
       "      <th>140714</th>\n",
       "      <td>Escitalopram</td>\n",
       "      <td>Anxiety</td>\n",
       "      <td>\"I&amp;#039;ve been taking Lexapro (escitaploprgra...</td>\n",
       "      <td>9</td>\n",
       "      <td>8-Oct-16</td>\n",
       "      <td>11</td>\n",
       "    </tr>\n",
       "    <tr>\n",
       "      <th>130945</th>\n",
       "      <td>Levonorgestrel</td>\n",
       "      <td>Birth Control</td>\n",
       "      <td>\"I&amp;#039;m married, 34 years old and I have no ...</td>\n",
       "      <td>8</td>\n",
       "      <td>15-Nov-10</td>\n",
       "      <td>7</td>\n",
       "    </tr>\n",
       "    <tr>\n",
       "      <th>47656</th>\n",
       "      <td>Tapentadol</td>\n",
       "      <td>Pain</td>\n",
       "      <td>\"I was prescribed Nucynta for severe neck/shou...</td>\n",
       "      <td>1</td>\n",
       "      <td>28-Nov-11</td>\n",
       "      <td>20</td>\n",
       "    </tr>\n",
       "    <tr>\n",
       "      <th>113712</th>\n",
       "      <td>Arthrotec</td>\n",
       "      <td>Sciatica</td>\n",
       "      <td>\"It works!!!\"</td>\n",
       "      <td>9</td>\n",
       "      <td>13-Sep-09</td>\n",
       "      <td>46</td>\n",
       "    </tr>\n",
       "  </tbody>\n",
       "</table>\n",
       "<p>215063 rows × 6 columns</p>\n",
       "</div>"
      ],
      "text/plain": [
       "                          drugName                     condition  \\\n",
       "uniqueID                                                           \n",
       "206461                   Valsartan  Left Ventricular Dysfunction   \n",
       "95260                   Guanfacine                          ADHD   \n",
       "92703                       Lybrel                 Birth Control   \n",
       "138000                  Ortho Evra                 Birth Control   \n",
       "35696     Buprenorphine / naloxone             Opiate Dependence   \n",
       "...                            ...                           ...   \n",
       "159999                   Tamoxifen     Breast Cancer, Prevention   \n",
       "140714                Escitalopram                       Anxiety   \n",
       "130945              Levonorgestrel                 Birth Control   \n",
       "47656                   Tapentadol                          Pain   \n",
       "113712                   Arthrotec                      Sciatica   \n",
       "\n",
       "                                                     review  rating  \\\n",
       "uniqueID                                                              \n",
       "206461    \"It has no side effect, I take it in combinati...       9   \n",
       "95260     \"My son is halfway through his fourth week of ...       8   \n",
       "92703     \"I used to take another oral contraceptive, wh...       5   \n",
       "138000    \"This is my first time using any form of birth...       8   \n",
       "35696     \"Suboxone has completely turned my life around...       9   \n",
       "...                                                     ...     ...   \n",
       "159999    \"I have taken Tamoxifen for 5 years. Side effe...      10   \n",
       "140714    \"I&#039;ve been taking Lexapro (escitaploprgra...       9   \n",
       "130945    \"I&#039;m married, 34 years old and I have no ...       8   \n",
       "47656     \"I was prescribed Nucynta for severe neck/shou...       1   \n",
       "113712                                        \"It works!!!\"       9   \n",
       "\n",
       "               date  usefulCount  \n",
       "uniqueID                          \n",
       "206461    20-May-12           27  \n",
       "95260     27-Apr-10          192  \n",
       "92703     14-Dec-09           17  \n",
       "138000     3-Nov-15           10  \n",
       "35696     27-Nov-16           37  \n",
       "...             ...          ...  \n",
       "159999    13-Sep-14           43  \n",
       "140714     8-Oct-16           11  \n",
       "130945    15-Nov-10            7  \n",
       "47656     28-Nov-11           20  \n",
       "113712    13-Sep-09           46  \n",
       "\n",
       "[215063 rows x 6 columns]"
      ]
     },
     "execution_count": 6,
     "metadata": {},
     "output_type": "execute_result"
    }
   ],
   "source": [
    "data"
   ]
  },
  {
   "cell_type": "code",
   "execution_count": 7,
   "id": "d2f1e33f",
   "metadata": {},
   "outputs": [
    {
     "data": {
      "text/html": [
       "<div>\n",
       "<style scoped>\n",
       "    .dataframe tbody tr th:only-of-type {\n",
       "        vertical-align: middle;\n",
       "    }\n",
       "\n",
       "    .dataframe tbody tr th {\n",
       "        vertical-align: top;\n",
       "    }\n",
       "\n",
       "    .dataframe thead th {\n",
       "        text-align: right;\n",
       "    }\n",
       "</style>\n",
       "<table border=\"1\" class=\"dataframe\">\n",
       "  <thead>\n",
       "    <tr style=\"text-align: right;\">\n",
       "      <th></th>\n",
       "      <th>drugName</th>\n",
       "      <th>condition</th>\n",
       "      <th>review</th>\n",
       "      <th>rating</th>\n",
       "      <th>date</th>\n",
       "      <th>usefulCount</th>\n",
       "    </tr>\n",
       "    <tr>\n",
       "      <th>uniqueID</th>\n",
       "      <th></th>\n",
       "      <th></th>\n",
       "      <th></th>\n",
       "      <th></th>\n",
       "      <th></th>\n",
       "      <th></th>\n",
       "    </tr>\n",
       "  </thead>\n",
       "  <tbody>\n",
       "    <tr>\n",
       "      <th>166567</th>\n",
       "      <td>Levonorgestrel</td>\n",
       "      <td>Emergency Contraception</td>\n",
       "      <td>\"I had a quickie n he decided to finish it off...</td>\n",
       "      <td>1</td>\n",
       "      <td>23-Sep-16</td>\n",
       "      <td>10</td>\n",
       "    </tr>\n",
       "    <tr>\n",
       "      <th>67838</th>\n",
       "      <td>Plan B</td>\n",
       "      <td>Emergency Contraception</td>\n",
       "      <td>\"I had a quickie n he decided to finish it off...</td>\n",
       "      <td>1</td>\n",
       "      <td>23-Sep-16</td>\n",
       "      <td>10</td>\n",
       "    </tr>\n",
       "  </tbody>\n",
       "</table>\n",
       "</div>"
      ],
      "text/plain": [
       "                drugName                condition  \\\n",
       "uniqueID                                            \n",
       "166567    Levonorgestrel  Emergency Contraception   \n",
       "67838             Plan B  Emergency Contraception   \n",
       "\n",
       "                                                     review  rating  \\\n",
       "uniqueID                                                              \n",
       "166567    \"I had a quickie n he decided to finish it off...       1   \n",
       "67838     \"I had a quickie n he decided to finish it off...       1   \n",
       "\n",
       "               date  usefulCount  \n",
       "uniqueID                          \n",
       "166567    23-Sep-16           10  \n",
       "67838     23-Sep-16           10  "
      ]
     },
     "execution_count": 7,
     "metadata": {},
     "output_type": "execute_result"
    }
   ],
   "source": [
    "data[data[[\"drugName\",\"condition\", \"review\",\"rating\", \"usefulCount\"]].duplicated()]"
   ]
  },
  {
   "cell_type": "code",
   "execution_count": 8,
   "id": "18df4f5d",
   "metadata": {},
   "outputs": [],
   "source": [
    "# in case we want to upload a sample\n",
    "# data= data.sample(frac=0.2)"
   ]
  },
  {
   "cell_type": "code",
   "execution_count": 9,
   "id": "1d9850f8",
   "metadata": {},
   "outputs": [
    {
     "data": {
      "text/plain": [
       "215063"
      ]
     },
     "execution_count": 9,
     "metadata": {},
     "output_type": "execute_result"
    }
   ],
   "source": [
    "len(data)"
   ]
  },
  {
   "cell_type": "markdown",
   "id": "b8042099",
   "metadata": {},
   "source": [
    "## Descriptive Statistics"
   ]
  },
  {
   "cell_type": "code",
   "execution_count": 10,
   "id": "3a6e7edd",
   "metadata": {},
   "outputs": [
    {
     "data": {
      "text/html": [
       "<div>\n",
       "<style scoped>\n",
       "    .dataframe tbody tr th:only-of-type {\n",
       "        vertical-align: middle;\n",
       "    }\n",
       "\n",
       "    .dataframe tbody tr th {\n",
       "        vertical-align: top;\n",
       "    }\n",
       "\n",
       "    .dataframe thead th {\n",
       "        text-align: right;\n",
       "    }\n",
       "</style>\n",
       "<table border=\"1\" class=\"dataframe\">\n",
       "  <thead>\n",
       "    <tr style=\"text-align: right;\">\n",
       "      <th></th>\n",
       "      <th>rating</th>\n",
       "      <th>usefulCount</th>\n",
       "    </tr>\n",
       "  </thead>\n",
       "  <tbody>\n",
       "    <tr>\n",
       "      <th>count</th>\n",
       "      <td>215063.000000</td>\n",
       "      <td>215063.000000</td>\n",
       "    </tr>\n",
       "    <tr>\n",
       "      <th>mean</th>\n",
       "      <td>6.990008</td>\n",
       "      <td>28.001004</td>\n",
       "    </tr>\n",
       "    <tr>\n",
       "      <th>std</th>\n",
       "      <td>3.275554</td>\n",
       "      <td>36.346069</td>\n",
       "    </tr>\n",
       "    <tr>\n",
       "      <th>min</th>\n",
       "      <td>1.000000</td>\n",
       "      <td>0.000000</td>\n",
       "    </tr>\n",
       "    <tr>\n",
       "      <th>25%</th>\n",
       "      <td>5.000000</td>\n",
       "      <td>6.000000</td>\n",
       "    </tr>\n",
       "    <tr>\n",
       "      <th>50%</th>\n",
       "      <td>8.000000</td>\n",
       "      <td>16.000000</td>\n",
       "    </tr>\n",
       "    <tr>\n",
       "      <th>75%</th>\n",
       "      <td>10.000000</td>\n",
       "      <td>36.000000</td>\n",
       "    </tr>\n",
       "    <tr>\n",
       "      <th>max</th>\n",
       "      <td>10.000000</td>\n",
       "      <td>1291.000000</td>\n",
       "    </tr>\n",
       "  </tbody>\n",
       "</table>\n",
       "</div>"
      ],
      "text/plain": [
       "              rating    usefulCount\n",
       "count  215063.000000  215063.000000\n",
       "mean        6.990008      28.001004\n",
       "std         3.275554      36.346069\n",
       "min         1.000000       0.000000\n",
       "25%         5.000000       6.000000\n",
       "50%         8.000000      16.000000\n",
       "75%        10.000000      36.000000\n",
       "max        10.000000    1291.000000"
      ]
     },
     "execution_count": 10,
     "metadata": {},
     "output_type": "execute_result"
    }
   ],
   "source": [
    "data.describe()"
   ]
  },
  {
   "cell_type": "code",
   "execution_count": 11,
   "id": "2985c78b",
   "metadata": {},
   "outputs": [],
   "source": [
    "def describe_cat(data):\n",
    "    table=pd.DataFrame(columns = data.select_dtypes(\"object\").columns, index = [\"count\", \"nulls\",\"%miss\", 'cardinality', \"mode\", \"mode freq\", \"mode%\", \"2nd mode\", \"2nd mode freq\", \"2nd mode%\"])\n",
    "    for col in data.select_dtypes(\"object\").columns :\n",
    "        table.loc[\"count\"][col] = len(data[col])\n",
    "        table.loc[\"nulls\"][col] = len(data[data[col].isna() == True][col])\n",
    "        table.loc[\"%miss\"][col] = table.loc[\"nulls\"][col]/table.loc[\"count\"][col]\n",
    "        table.loc[\"cardinality\"][col]= len(data[col].unique())\n",
    "        table.loc[\"mode\"][col]= data[col].value_counts().index[0]\n",
    "        table.loc[\"mode freq\"][col]= data[col].value_counts()[0]\n",
    "        table.loc[\"mode%\"][col]= table.loc[\"mode freq\"][col]/table.loc[\"count\"][col]\n",
    "        if table.loc[\"cardinality\"][col] != table.loc[\"mode freq\"][col]:\n",
    "            table.loc[\"2nd mode\"][col]= data[col].value_counts().index[1]\n",
    "            table.loc[\"2nd mode freq\"][col]= data[col].value_counts()[1]\n",
    "            table.loc[\"2nd mode%\"][col]= table.loc[\"2nd mode freq\"][col]/table.loc[\"count\"][col]    \n",
    "    return table"
   ]
  },
  {
   "cell_type": "code",
   "execution_count": 12,
   "id": "67a5a6f6",
   "metadata": {},
   "outputs": [
    {
     "data": {
      "text/html": [
       "<div>\n",
       "<style scoped>\n",
       "    .dataframe tbody tr th:only-of-type {\n",
       "        vertical-align: middle;\n",
       "    }\n",
       "\n",
       "    .dataframe tbody tr th {\n",
       "        vertical-align: top;\n",
       "    }\n",
       "\n",
       "    .dataframe thead th {\n",
       "        text-align: right;\n",
       "    }\n",
       "</style>\n",
       "<table border=\"1\" class=\"dataframe\">\n",
       "  <thead>\n",
       "    <tr style=\"text-align: right;\">\n",
       "      <th></th>\n",
       "      <th>drugName</th>\n",
       "      <th>condition</th>\n",
       "      <th>review</th>\n",
       "      <th>date</th>\n",
       "    </tr>\n",
       "  </thead>\n",
       "  <tbody>\n",
       "    <tr>\n",
       "      <th>count</th>\n",
       "      <td>215063</td>\n",
       "      <td>215063</td>\n",
       "      <td>215063</td>\n",
       "      <td>215063</td>\n",
       "    </tr>\n",
       "    <tr>\n",
       "      <th>nulls</th>\n",
       "      <td>0</td>\n",
       "      <td>1194</td>\n",
       "      <td>0</td>\n",
       "      <td>0</td>\n",
       "    </tr>\n",
       "    <tr>\n",
       "      <th>%miss</th>\n",
       "      <td>0.0</td>\n",
       "      <td>0.005552</td>\n",
       "      <td>0.0</td>\n",
       "      <td>0.0</td>\n",
       "    </tr>\n",
       "    <tr>\n",
       "      <th>cardinality</th>\n",
       "      <td>3671</td>\n",
       "      <td>917</td>\n",
       "      <td>128478</td>\n",
       "      <td>3579</td>\n",
       "    </tr>\n",
       "    <tr>\n",
       "      <th>mode</th>\n",
       "      <td>Levonorgestrel</td>\n",
       "      <td>Birth Control</td>\n",
       "      <td>\"Good\"</td>\n",
       "      <td>1-Mar-16</td>\n",
       "    </tr>\n",
       "    <tr>\n",
       "      <th>mode freq</th>\n",
       "      <td>4930</td>\n",
       "      <td>38436</td>\n",
       "      <td>39</td>\n",
       "      <td>185</td>\n",
       "    </tr>\n",
       "    <tr>\n",
       "      <th>mode%</th>\n",
       "      <td>0.022924</td>\n",
       "      <td>0.17872</td>\n",
       "      <td>0.000181</td>\n",
       "      <td>0.00086</td>\n",
       "    </tr>\n",
       "    <tr>\n",
       "      <th>2nd mode</th>\n",
       "      <td>Etonogestrel</td>\n",
       "      <td>Depression</td>\n",
       "      <td>\"Good.\"</td>\n",
       "      <td>31-Mar-16</td>\n",
       "    </tr>\n",
       "    <tr>\n",
       "      <th>2nd mode freq</th>\n",
       "      <td>4421</td>\n",
       "      <td>12164</td>\n",
       "      <td>26</td>\n",
       "      <td>183</td>\n",
       "    </tr>\n",
       "    <tr>\n",
       "      <th>2nd mode%</th>\n",
       "      <td>0.020557</td>\n",
       "      <td>0.05656</td>\n",
       "      <td>0.000121</td>\n",
       "      <td>0.000851</td>\n",
       "    </tr>\n",
       "  </tbody>\n",
       "</table>\n",
       "</div>"
      ],
      "text/plain": [
       "                     drugName      condition    review       date\n",
       "count                  215063         215063    215063     215063\n",
       "nulls                       0           1194         0          0\n",
       "%miss                     0.0       0.005552       0.0        0.0\n",
       "cardinality              3671            917    128478       3579\n",
       "mode           Levonorgestrel  Birth Control    \"Good\"   1-Mar-16\n",
       "mode freq                4930          38436        39        185\n",
       "mode%                0.022924        0.17872  0.000181    0.00086\n",
       "2nd mode         Etonogestrel     Depression   \"Good.\"  31-Mar-16\n",
       "2nd mode freq            4421          12164        26        183\n",
       "2nd mode%            0.020557        0.05656  0.000121   0.000851"
      ]
     },
     "execution_count": 12,
     "metadata": {},
     "output_type": "execute_result"
    }
   ],
   "source": [
    "describe_cat(data)"
   ]
  },
  {
   "cell_type": "code",
   "execution_count": 13,
   "id": "877494fd",
   "metadata": {},
   "outputs": [
    {
     "name": "stdout",
     "output_type": "stream",
     "text": [
      "<class 'pandas.core.frame.DataFrame'>\n",
      "Int64Index: 215063 entries, 206461 to 113712\n",
      "Data columns (total 6 columns):\n",
      " #   Column       Non-Null Count   Dtype \n",
      "---  ------       --------------   ----- \n",
      " 0   drugName     215063 non-null  object\n",
      " 1   condition    213869 non-null  object\n",
      " 2   review       215063 non-null  object\n",
      " 3   rating       215063 non-null  int64 \n",
      " 4   date         215063 non-null  object\n",
      " 5   usefulCount  215063 non-null  int64 \n",
      "dtypes: int64(2), object(4)\n",
      "memory usage: 11.5+ MB\n"
     ]
    }
   ],
   "source": [
    "data.info()"
   ]
  },
  {
   "cell_type": "code",
   "execution_count": 14,
   "id": "e7c07f01",
   "metadata": {},
   "outputs": [
    {
     "data": {
      "text/plain": [
       "drugName       False\n",
       "condition       True\n",
       "review         False\n",
       "rating         False\n",
       "date           False\n",
       "usefulCount    False\n",
       "dtype: bool"
      ]
     },
     "execution_count": 14,
     "metadata": {},
     "output_type": "execute_result"
    }
   ],
   "source": [
    "# checking if the data contains NULL values\n",
    "data.isnull().any()"
   ]
  },
  {
   "cell_type": "code",
   "execution_count": 15,
   "id": "6f4f5215",
   "metadata": {},
   "outputs": [
    {
     "name": "stdout",
     "output_type": "stream",
     "text": [
      "3671\n"
     ]
    }
   ],
   "source": [
    "print(len(data.drugName.unique()))"
   ]
  },
  {
   "cell_type": "code",
   "execution_count": 16,
   "id": "ef53b653",
   "metadata": {},
   "outputs": [
    {
     "name": "stdout",
     "output_type": "stream",
     "text": [
      "917\n"
     ]
    }
   ],
   "source": [
    "print(len(data.condition.unique()))"
   ]
  },
  {
   "cell_type": "markdown",
   "id": "c6b215a4",
   "metadata": {},
   "source": [
    "### Disctributions"
   ]
  },
  {
   "cell_type": "code",
   "execution_count": 17,
   "id": "e2a90e18",
   "metadata": {
    "scrolled": true
   },
   "outputs": [
    {
     "data": {
      "text/plain": [
       "array([[<AxesSubplot:title={'center':'rating'}>,\n",
       "        <AxesSubplot:title={'center':'usefulCount'}>]], dtype=object)"
      ]
     },
     "execution_count": 17,
     "metadata": {},
     "output_type": "execute_result"
    },
    {
     "data": {
      "image/png": "[encoded data removed]",
      "text/plain": [
       "<Figure size 1080x360 with 2 Axes>"
      ]
     },
     "metadata": {
      "needs_background": "light"
     },
     "output_type": "display_data"
    }
   ],
   "source": [
    "data.hist(bins=30, figsize=(15, 5))"
   ]
  },
  {
   "cell_type": "code",
   "execution_count": 23,
   "id": "62cbd618",
   "metadata": {},
   "outputs": [
    {
     "data": {
      "text/plain": [
       "<seaborn.axisgrid.FacetGrid at 0x11e971b20>"
      ]
     },
     "execution_count": 23,
     "metadata": {},
     "output_type": "execute_result"
    },
    {
     "data": {
      "image/png": "[encoded data removed]",
      "text/plain": [
       "<Figure size 360x360 with 1 Axes>"
      ]
     },
     "metadata": {
      "needs_background": "light"
     },
     "output_type": "display_data"
    }
   ],
   "source": [
    "newdata = data.drop(data[data['usefulCount'] > 81].index)\n",
    "sns.catplot(x=\"rating\", y=\"usefulCount\", kind=\"box\", data=newdata)"
   ]
  },
  {
   "cell_type": "code",
   "execution_count": 26,
   "id": "a5440f74",
   "metadata": {},
   "outputs": [
    {
     "data": {
      "text/plain": [
       "rating\n",
       "1     28918\n",
       "2      9265\n",
       "3      8718\n",
       "4      6671\n",
       "5     10723\n",
       "6      8462\n",
       "7     12547\n",
       "8     25046\n",
       "9     36708\n",
       "10    68005\n",
       "Name: review, dtype: int64"
      ]
     },
     "execution_count": 26,
     "metadata": {},
     "output_type": "execute_result"
    }
   ],
   "source": [
    "data.groupby(by = \"rating\").count()[\"review\"]"
   ]
  },
  {
   "cell_type": "code",
   "execution_count": 19,
   "id": "1df9c261",
   "metadata": {},
   "outputs": [
    {
     "data": {
      "image/png": "[encoded data removed]",
      "text/plain": [
       "<Figure size 360x360 with 6 Axes>"
      ]
     },
     "metadata": {
      "needs_background": "light"
     },
     "output_type": "display_data"
    }
   ],
   "source": [
    "sns.pairplot(data)\n",
    "plt.show()"
   ]
  },
  {
   "cell_type": "markdown",
   "id": "b7ac5834",
   "metadata": {},
   "source": [
    "### Outliers"
   ]
  },
  {
   "cell_type": "code",
   "execution_count": 20,
   "id": "0f7d83db",
   "metadata": {},
   "outputs": [],
   "source": [
    "# Finding Threshholds from each numeric feature\n",
    "def find_thresholds (data):   \n",
    "    table=pd.DataFrame(columns = data.select_dtypes(include=['int64','float64']).columns, index = [\"Q1\", \"Q3\",\"IQR\", 'min', \"max\", \"lower treshold\", \"upper treshold\"])\n",
    "    for col in data.select_dtypes(include=['int64','float64']).columns :\n",
    "        Q1 = data[col].quantile(q=0.25)\n",
    "        Q3 = data[col].quantile(q=0.75)\n",
    "        IQR = Q3-Q1\n",
    "        table.loc[\"Q1\"][col] = Q1\n",
    "        table.loc[\"Q3\"][col] = Q3\n",
    "        table.loc[\"IQR\"][col] = IQR\n",
    "        table.loc['min'][col]= data[col].min()\n",
    "        table.loc[\"max\"][col]= data[col].max()\n",
    "        table.loc[\"lower treshold\"][col]= Q1-(1.5)*IQR\n",
    "        table.loc[\"upper treshold\"][col]= Q3+(1.5)*IQR\n",
    "    return table"
   ]
  },
  {
   "cell_type": "code",
   "execution_count": 21,
   "id": "d5efd638",
   "metadata": {},
   "outputs": [],
   "source": [
    "threshholds = find_thresholds(data)"
   ]
  },
  {
   "cell_type": "code",
   "execution_count": 22,
   "id": "eb9fa127",
   "metadata": {},
   "outputs": [
    {
     "data": {
      "text/html": [
       "<div>\n",
       "<style scoped>\n",
       "    .dataframe tbody tr th:only-of-type {\n",
       "        vertical-align: middle;\n",
       "    }\n",
       "\n",
       "    .dataframe tbody tr th {\n",
       "        vertical-align: top;\n",
       "    }\n",
       "\n",
       "    .dataframe thead th {\n",
       "        text-align: right;\n",
       "    }\n",
       "</style>\n",
       "<table border=\"1\" class=\"dataframe\">\n",
       "  <thead>\n",
       "    <tr style=\"text-align: right;\">\n",
       "      <th></th>\n",
       "      <th>rating</th>\n",
       "      <th>usefulCount</th>\n",
       "    </tr>\n",
       "  </thead>\n",
       "  <tbody>\n",
       "    <tr>\n",
       "      <th>Q1</th>\n",
       "      <td>5.0</td>\n",
       "      <td>6.0</td>\n",
       "    </tr>\n",
       "    <tr>\n",
       "      <th>Q3</th>\n",
       "      <td>10.0</td>\n",
       "      <td>36.0</td>\n",
       "    </tr>\n",
       "    <tr>\n",
       "      <th>IQR</th>\n",
       "      <td>5.0</td>\n",
       "      <td>30.0</td>\n",
       "    </tr>\n",
       "    <tr>\n",
       "      <th>min</th>\n",
       "      <td>1</td>\n",
       "      <td>0</td>\n",
       "    </tr>\n",
       "    <tr>\n",
       "      <th>max</th>\n",
       "      <td>10</td>\n",
       "      <td>1291</td>\n",
       "    </tr>\n",
       "    <tr>\n",
       "      <th>lower treshold</th>\n",
       "      <td>-2.5</td>\n",
       "      <td>-39.0</td>\n",
       "    </tr>\n",
       "    <tr>\n",
       "      <th>upper treshold</th>\n",
       "      <td>17.5</td>\n",
       "      <td>81.0</td>\n",
       "    </tr>\n",
       "  </tbody>\n",
       "</table>\n",
       "</div>"
      ],
      "text/plain": [
       "               rating usefulCount\n",
       "Q1                5.0         6.0\n",
       "Q3               10.0        36.0\n",
       "IQR               5.0        30.0\n",
       "min                 1           0\n",
       "max                10        1291\n",
       "lower treshold   -2.5       -39.0\n",
       "upper treshold   17.5        81.0"
      ]
     },
     "execution_count": 22,
     "metadata": {},
     "output_type": "execute_result"
    }
   ],
   "source": [
    "threshholds"
   ]
  },
  {
   "cell_type": "code",
   "execution_count": 27,
   "id": "c154d959",
   "metadata": {
    "scrolled": true
   },
   "outputs": [
    {
     "data": {
      "text/html": [
       "<div>\n",
       "<style scoped>\n",
       "    .dataframe tbody tr th:only-of-type {\n",
       "        vertical-align: middle;\n",
       "    }\n",
       "\n",
       "    .dataframe tbody tr th {\n",
       "        vertical-align: top;\n",
       "    }\n",
       "\n",
       "    .dataframe thead th {\n",
       "        text-align: right;\n",
       "    }\n",
       "</style>\n",
       "<table border=\"1\" class=\"dataframe\">\n",
       "  <thead>\n",
       "    <tr style=\"text-align: right;\">\n",
       "      <th></th>\n",
       "      <th>drugName</th>\n",
       "      <th>condition</th>\n",
       "      <th>review</th>\n",
       "      <th>rating</th>\n",
       "      <th>date</th>\n",
       "      <th>usefulCount</th>\n",
       "    </tr>\n",
       "    <tr>\n",
       "      <th>uniqueID</th>\n",
       "      <th></th>\n",
       "      <th></th>\n",
       "      <th></th>\n",
       "      <th></th>\n",
       "      <th></th>\n",
       "      <th></th>\n",
       "    </tr>\n",
       "  </thead>\n",
       "  <tbody>\n",
       "    <tr>\n",
       "      <th>206461</th>\n",
       "      <td>Valsartan</td>\n",
       "      <td>Left Ventricular Dysfunction</td>\n",
       "      <td>\"It has no side effect, I take it in combinati...</td>\n",
       "      <td>9</td>\n",
       "      <td>20-May-12</td>\n",
       "      <td>27</td>\n",
       "    </tr>\n",
       "    <tr>\n",
       "      <th>92703</th>\n",
       "      <td>Lybrel</td>\n",
       "      <td>Birth Control</td>\n",
       "      <td>\"I used to take another oral contraceptive, wh...</td>\n",
       "      <td>5</td>\n",
       "      <td>14-Dec-09</td>\n",
       "      <td>17</td>\n",
       "    </tr>\n",
       "    <tr>\n",
       "      <th>138000</th>\n",
       "      <td>Ortho Evra</td>\n",
       "      <td>Birth Control</td>\n",
       "      <td>\"This is my first time using any form of birth...</td>\n",
       "      <td>8</td>\n",
       "      <td>3-Nov-15</td>\n",
       "      <td>10</td>\n",
       "    </tr>\n",
       "    <tr>\n",
       "      <th>35696</th>\n",
       "      <td>Buprenorphine / naloxone</td>\n",
       "      <td>Opiate Dependence</td>\n",
       "      <td>\"Suboxone has completely turned my life around...</td>\n",
       "      <td>9</td>\n",
       "      <td>27-Nov-16</td>\n",
       "      <td>37</td>\n",
       "    </tr>\n",
       "    <tr>\n",
       "      <th>155963</th>\n",
       "      <td>Cialis</td>\n",
       "      <td>Benign Prostatic Hyperplasia</td>\n",
       "      <td>\"2nd day on 5mg started to work with rock hard...</td>\n",
       "      <td>2</td>\n",
       "      <td>28-Nov-15</td>\n",
       "      <td>43</td>\n",
       "    </tr>\n",
       "    <tr>\n",
       "      <th>...</th>\n",
       "      <td>...</td>\n",
       "      <td>...</td>\n",
       "      <td>...</td>\n",
       "      <td>...</td>\n",
       "      <td>...</td>\n",
       "      <td>...</td>\n",
       "    </tr>\n",
       "    <tr>\n",
       "      <th>159999</th>\n",
       "      <td>Tamoxifen</td>\n",
       "      <td>Breast Cancer, Prevention</td>\n",
       "      <td>\"I have taken Tamoxifen for 5 years. Side effe...</td>\n",
       "      <td>10</td>\n",
       "      <td>13-Sep-14</td>\n",
       "      <td>43</td>\n",
       "    </tr>\n",
       "    <tr>\n",
       "      <th>140714</th>\n",
       "      <td>Escitalopram</td>\n",
       "      <td>Anxiety</td>\n",
       "      <td>\"I&amp;#039;ve been taking Lexapro (escitaploprgra...</td>\n",
       "      <td>9</td>\n",
       "      <td>8-Oct-16</td>\n",
       "      <td>11</td>\n",
       "    </tr>\n",
       "    <tr>\n",
       "      <th>130945</th>\n",
       "      <td>Levonorgestrel</td>\n",
       "      <td>Birth Control</td>\n",
       "      <td>\"I&amp;#039;m married, 34 years old and I have no ...</td>\n",
       "      <td>8</td>\n",
       "      <td>15-Nov-10</td>\n",
       "      <td>7</td>\n",
       "    </tr>\n",
       "    <tr>\n",
       "      <th>47656</th>\n",
       "      <td>Tapentadol</td>\n",
       "      <td>Pain</td>\n",
       "      <td>\"I was prescribed Nucynta for severe neck/shou...</td>\n",
       "      <td>1</td>\n",
       "      <td>28-Nov-11</td>\n",
       "      <td>20</td>\n",
       "    </tr>\n",
       "    <tr>\n",
       "      <th>113712</th>\n",
       "      <td>Arthrotec</td>\n",
       "      <td>Sciatica</td>\n",
       "      <td>\"It works!!!\"</td>\n",
       "      <td>9</td>\n",
       "      <td>13-Sep-09</td>\n",
       "      <td>46</td>\n",
       "    </tr>\n",
       "  </tbody>\n",
       "</table>\n",
       "<p>205531 rows × 6 columns</p>\n",
       "</div>"
      ],
      "text/plain": [
       "                          drugName                     condition  \\\n",
       "uniqueID                                                           \n",
       "206461                   Valsartan  Left Ventricular Dysfunction   \n",
       "92703                       Lybrel                 Birth Control   \n",
       "138000                  Ortho Evra                 Birth Control   \n",
       "35696     Buprenorphine / naloxone             Opiate Dependence   \n",
       "155963                      Cialis  Benign Prostatic Hyperplasia   \n",
       "...                            ...                           ...   \n",
       "159999                   Tamoxifen     Breast Cancer, Prevention   \n",
       "140714                Escitalopram                       Anxiety   \n",
       "130945              Levonorgestrel                 Birth Control   \n",
       "47656                   Tapentadol                          Pain   \n",
       "113712                   Arthrotec                      Sciatica   \n",
       "\n",
       "                                                     review  rating  \\\n",
       "uniqueID                                                              \n",
       "206461    \"It has no side effect, I take it in combinati...       9   \n",
       "92703     \"I used to take another oral contraceptive, wh...       5   \n",
       "138000    \"This is my first time using any form of birth...       8   \n",
       "35696     \"Suboxone has completely turned my life around...       9   \n",
       "155963    \"2nd day on 5mg started to work with rock hard...       2   \n",
       "...                                                     ...     ...   \n",
       "159999    \"I have taken Tamoxifen for 5 years. Side effe...      10   \n",
       "140714    \"I&#039;ve been taking Lexapro (escitaploprgra...       9   \n",
       "130945    \"I&#039;m married, 34 years old and I have no ...       8   \n",
       "47656     \"I was prescribed Nucynta for severe neck/shou...       1   \n",
       "113712                                        \"It works!!!\"       9   \n",
       "\n",
       "               date  usefulCount  \n",
       "uniqueID                          \n",
       "206461    20-May-12           27  \n",
       "92703     14-Dec-09           17  \n",
       "138000     3-Nov-15           10  \n",
       "35696     27-Nov-16           37  \n",
       "155963    28-Nov-15           43  \n",
       "...             ...          ...  \n",
       "159999    13-Sep-14           43  \n",
       "140714     8-Oct-16           11  \n",
       "130945    15-Nov-10            7  \n",
       "47656     28-Nov-11           20  \n",
       "113712    13-Sep-09           46  \n",
       "\n",
       "[205531 rows x 6 columns]"
      ]
     },
     "execution_count": 27,
     "metadata": {},
     "output_type": "execute_result"
    }
   ],
   "source": [
    "data[data[\"usefulCount\"]<100]"
   ]
  },
  {
   "cell_type": "code",
   "execution_count": 163,
   "id": "7de024d6",
   "metadata": {},
   "outputs": [
    {
     "data": {
      "text/plain": [
       "0.9999298101129589"
      ]
     },
     "execution_count": 163,
     "metadata": {},
     "output_type": "execute_result"
    }
   ],
   "source": [
    "len(data[data[\"usefulCount\"]<200])/ len(data)"
   ]
  },
  {
   "cell_type": "markdown",
   "id": "3e24fde8",
   "metadata": {},
   "source": [
    "### Meaningless Values and Characters"
   ]
  },
  {
   "cell_type": "code",
   "execution_count": 25,
   "id": "f92a3dd7",
   "metadata": {},
   "outputs": [
    {
     "data": {
      "text/html": [
       "<div>\n",
       "<style scoped>\n",
       "    .dataframe tbody tr th:only-of-type {\n",
       "        vertical-align: middle;\n",
       "    }\n",
       "\n",
       "    .dataframe tbody tr th {\n",
       "        vertical-align: top;\n",
       "    }\n",
       "\n",
       "    .dataframe thead th {\n",
       "        text-align: right;\n",
       "    }\n",
       "</style>\n",
       "<table border=\"1\" class=\"dataframe\">\n",
       "  <thead>\n",
       "    <tr style=\"text-align: right;\">\n",
       "      <th></th>\n",
       "      <th>drugName</th>\n",
       "      <th>condition</th>\n",
       "      <th>review</th>\n",
       "      <th>rating</th>\n",
       "      <th>date</th>\n",
       "      <th>usefulCount</th>\n",
       "    </tr>\n",
       "    <tr>\n",
       "      <th>uniqueID</th>\n",
       "      <th></th>\n",
       "      <th></th>\n",
       "      <th></th>\n",
       "      <th></th>\n",
       "      <th></th>\n",
       "      <th></th>\n",
       "    </tr>\n",
       "  </thead>\n",
       "  <tbody>\n",
       "    <tr>\n",
       "      <th>220696</th>\n",
       "      <td>Loestrin 24 Fe</td>\n",
       "      <td>2&lt;/span&gt; users found this comment helpful.</td>\n",
       "      <td>\"I&amp;#039;m 16 and  I have been on Loestrin 24 f...</td>\n",
       "      <td>3</td>\n",
       "      <td>3-Nov-10</td>\n",
       "      <td>2</td>\n",
       "    </tr>\n",
       "    <tr>\n",
       "      <th>67383</th>\n",
       "      <td>Provera</td>\n",
       "      <td>4&lt;/span&gt; users found this comment helpful.</td>\n",
       "      <td>\"I&amp;#039;m 24 years old and have always had a p...</td>\n",
       "      <td>1</td>\n",
       "      <td>27-Mar-16</td>\n",
       "      <td>4</td>\n",
       "    </tr>\n",
       "    <tr>\n",
       "      <th>81588</th>\n",
       "      <td>Yaz</td>\n",
       "      <td>3&lt;/span&gt; users found this comment helpful.</td>\n",
       "      <td>\"I took Yaz for a little over 2 years.  From a...</td>\n",
       "      <td>3</td>\n",
       "      <td>1-Jun-10</td>\n",
       "      <td>3</td>\n",
       "    </tr>\n",
       "    <tr>\n",
       "      <th>132965</th>\n",
       "      <td>Loestrin 24 Fe</td>\n",
       "      <td>4&lt;/span&gt; users found this comment helpful.</td>\n",
       "      <td>\"Took this pill for 1.) Acne and 2.) Birth Con...</td>\n",
       "      <td>2</td>\n",
       "      <td>24-Jun-14</td>\n",
       "      <td>4</td>\n",
       "    </tr>\n",
       "    <tr>\n",
       "      <th>91050</th>\n",
       "      <td>Norco</td>\n",
       "      <td>11&lt;/span&gt; users found this comment helpful.</td>\n",
       "      <td>\"I have suffered with low back pain - 2 surger...</td>\n",
       "      <td>9</td>\n",
       "      <td>15-Mar-09</td>\n",
       "      <td>11</td>\n",
       "    </tr>\n",
       "    <tr>\n",
       "      <th>...</th>\n",
       "      <td>...</td>\n",
       "      <td>...</td>\n",
       "      <td>...</td>\n",
       "      <td>...</td>\n",
       "      <td>...</td>\n",
       "      <td>...</td>\n",
       "    </tr>\n",
       "    <tr>\n",
       "      <th>133354</th>\n",
       "      <td>Tri-Sprintec</td>\n",
       "      <td>3&lt;/span&gt; users found this comment helpful.</td>\n",
       "      <td>\"I have been taking this pill for less than a ...</td>\n",
       "      <td>8</td>\n",
       "      <td>24-Sep-10</td>\n",
       "      <td>3</td>\n",
       "    </tr>\n",
       "    <tr>\n",
       "      <th>149494</th>\n",
       "      <td>Mirena</td>\n",
       "      <td>5&lt;/span&gt; users found this comment helpful.</td>\n",
       "      <td>\"I got the Mirena put in last month. And holy ...</td>\n",
       "      <td>7</td>\n",
       "      <td>12-Feb-13</td>\n",
       "      <td>5</td>\n",
       "    </tr>\n",
       "    <tr>\n",
       "      <th>91988</th>\n",
       "      <td>Lyrica</td>\n",
       "      <td>21&lt;/span&gt; users found this comment helpful.</td>\n",
       "      <td>\"It was a nightmare.I had the worse side effec...</td>\n",
       "      <td>1</td>\n",
       "      <td>14-Apr-15</td>\n",
       "      <td>21</td>\n",
       "    </tr>\n",
       "    <tr>\n",
       "      <th>174757</th>\n",
       "      <td>Dulera</td>\n",
       "      <td>28&lt;/span&gt; users found this comment helpful.</td>\n",
       "      <td>\"My 10 year old son took Dulera for asthma.  I...</td>\n",
       "      <td>1</td>\n",
       "      <td>29-Feb-12</td>\n",
       "      <td>28</td>\n",
       "    </tr>\n",
       "    <tr>\n",
       "      <th>37632</th>\n",
       "      <td>Vyvanse</td>\n",
       "      <td>5&lt;/span&gt; users found this comment helpful.</td>\n",
       "      <td>\"Wonderful drug, after being on narcotics for ...</td>\n",
       "      <td>9</td>\n",
       "      <td>29-Dec-09</td>\n",
       "      <td>5</td>\n",
       "    </tr>\n",
       "  </tbody>\n",
       "</table>\n",
       "<p>1171 rows × 6 columns</p>\n",
       "</div>"
      ],
      "text/plain": [
       "                drugName                                    condition  \\\n",
       "uniqueID                                                                \n",
       "220696    Loestrin 24 Fe   2</span> users found this comment helpful.   \n",
       "67383            Provera   4</span> users found this comment helpful.   \n",
       "81588                Yaz   3</span> users found this comment helpful.   \n",
       "132965    Loestrin 24 Fe   4</span> users found this comment helpful.   \n",
       "91050              Norco  11</span> users found this comment helpful.   \n",
       "...                  ...                                          ...   \n",
       "133354      Tri-Sprintec   3</span> users found this comment helpful.   \n",
       "149494            Mirena   5</span> users found this comment helpful.   \n",
       "91988             Lyrica  21</span> users found this comment helpful.   \n",
       "174757            Dulera  28</span> users found this comment helpful.   \n",
       "37632            Vyvanse   5</span> users found this comment helpful.   \n",
       "\n",
       "                                                     review  rating  \\\n",
       "uniqueID                                                              \n",
       "220696    \"I&#039;m 16 and  I have been on Loestrin 24 f...       3   \n",
       "67383     \"I&#039;m 24 years old and have always had a p...       1   \n",
       "81588     \"I took Yaz for a little over 2 years.  From a...       3   \n",
       "132965    \"Took this pill for 1.) Acne and 2.) Birth Con...       2   \n",
       "91050     \"I have suffered with low back pain - 2 surger...       9   \n",
       "...                                                     ...     ...   \n",
       "133354    \"I have been taking this pill for less than a ...       8   \n",
       "149494    \"I got the Mirena put in last month. And holy ...       7   \n",
       "91988     \"It was a nightmare.I had the worse side effec...       1   \n",
       "174757    \"My 10 year old son took Dulera for asthma.  I...       1   \n",
       "37632     \"Wonderful drug, after being on narcotics for ...       9   \n",
       "\n",
       "               date  usefulCount  \n",
       "uniqueID                          \n",
       "220696     3-Nov-10            2  \n",
       "67383     27-Mar-16            4  \n",
       "81588      1-Jun-10            3  \n",
       "132965    24-Jun-14            4  \n",
       "91050     15-Mar-09           11  \n",
       "...             ...          ...  \n",
       "133354    24-Sep-10            3  \n",
       "149494    12-Feb-13            5  \n",
       "91988     14-Apr-15           21  \n",
       "174757    29-Feb-12           28  \n",
       "37632     29-Dec-09            5  \n",
       "\n",
       "[1171 rows x 6 columns]"
      ]
     },
     "execution_count": 25,
     "metadata": {},
     "output_type": "execute_result"
    }
   ],
   "source": [
    "data[data[\"condition\"].str.contains(\"users found this comment helpful.\")==True]"
   ]
  },
  {
   "cell_type": "code",
   "execution_count": 34,
   "id": "17581581",
   "metadata": {},
   "outputs": [
    {
     "data": {
      "text/html": [
       "<div>\n",
       "<style scoped>\n",
       "    .dataframe tbody tr th:only-of-type {\n",
       "        vertical-align: middle;\n",
       "    }\n",
       "\n",
       "    .dataframe tbody tr th {\n",
       "        vertical-align: top;\n",
       "    }\n",
       "\n",
       "    .dataframe thead th {\n",
       "        text-align: right;\n",
       "    }\n",
       "</style>\n",
       "<table border=\"1\" class=\"dataframe\">\n",
       "  <thead>\n",
       "    <tr style=\"text-align: right;\">\n",
       "      <th></th>\n",
       "      <th>drugName</th>\n",
       "      <th>condition</th>\n",
       "      <th>review</th>\n",
       "      <th>rating</th>\n",
       "      <th>date</th>\n",
       "      <th>usefulCount</th>\n",
       "    </tr>\n",
       "    <tr>\n",
       "      <th>uniqueID</th>\n",
       "      <th></th>\n",
       "      <th></th>\n",
       "      <th></th>\n",
       "      <th></th>\n",
       "      <th></th>\n",
       "      <th></th>\n",
       "    </tr>\n",
       "  </thead>\n",
       "  <tbody>\n",
       "    <tr>\n",
       "      <th>92703</th>\n",
       "      <td>Lybrel</td>\n",
       "      <td>Birth Control</td>\n",
       "      <td>\"I used to take another oral contraceptive, wh...</td>\n",
       "      <td>5</td>\n",
       "      <td>14-Dec-09</td>\n",
       "      <td>17</td>\n",
       "    </tr>\n",
       "    <tr>\n",
       "      <th>138000</th>\n",
       "      <td>Ortho Evra</td>\n",
       "      <td>Birth Control</td>\n",
       "      <td>\"This is my first time using any form of birth...</td>\n",
       "      <td>8</td>\n",
       "      <td>3-Nov-15</td>\n",
       "      <td>10</td>\n",
       "    </tr>\n",
       "    <tr>\n",
       "      <th>35696</th>\n",
       "      <td>Buprenorphine / naloxone</td>\n",
       "      <td>Opiate Dependence</td>\n",
       "      <td>\"Suboxone has completely turned my life around...</td>\n",
       "      <td>9</td>\n",
       "      <td>27-Nov-16</td>\n",
       "      <td>37</td>\n",
       "    </tr>\n",
       "    <tr>\n",
       "      <th>155963</th>\n",
       "      <td>Cialis</td>\n",
       "      <td>Benign Prostatic Hyperplasia</td>\n",
       "      <td>\"2nd day on 5mg started to work with rock hard...</td>\n",
       "      <td>2</td>\n",
       "      <td>28-Nov-15</td>\n",
       "      <td>43</td>\n",
       "    </tr>\n",
       "    <tr>\n",
       "      <th>165907</th>\n",
       "      <td>Levonorgestrel</td>\n",
       "      <td>Emergency Contraception</td>\n",
       "      <td>\"He pulled out, but he cummed a bit in me. I t...</td>\n",
       "      <td>1</td>\n",
       "      <td>7-Mar-17</td>\n",
       "      <td>5</td>\n",
       "    </tr>\n",
       "    <tr>\n",
       "      <th>...</th>\n",
       "      <td>...</td>\n",
       "      <td>...</td>\n",
       "      <td>...</td>\n",
       "      <td>...</td>\n",
       "      <td>...</td>\n",
       "      <td>...</td>\n",
       "    </tr>\n",
       "    <tr>\n",
       "      <th>35261</th>\n",
       "      <td>Levofloxacin</td>\n",
       "      <td>Bronchitis</td>\n",
       "      <td>\"This is my 3rd time taking this medicine. Fir...</td>\n",
       "      <td>10</td>\n",
       "      <td>26-Oct-14</td>\n",
       "      <td>29</td>\n",
       "    </tr>\n",
       "    <tr>\n",
       "      <th>33495</th>\n",
       "      <td>Microgestin Fe 1 / 20</td>\n",
       "      <td>Birth Control</td>\n",
       "      <td>\"I was on Microgestin for about 3 years. Over ...</td>\n",
       "      <td>6</td>\n",
       "      <td>1-Aug-14</td>\n",
       "      <td>15</td>\n",
       "    </tr>\n",
       "    <tr>\n",
       "      <th>123432</th>\n",
       "      <td>Apri</td>\n",
       "      <td>Birth Control</td>\n",
       "      <td>\"I started taking Apri about 7 months ago. My ...</td>\n",
       "      <td>9</td>\n",
       "      <td>25-Aug-10</td>\n",
       "      <td>18</td>\n",
       "    </tr>\n",
       "    <tr>\n",
       "      <th>140714</th>\n",
       "      <td>Escitalopram</td>\n",
       "      <td>Anxiety</td>\n",
       "      <td>\"I&amp;#039;ve been taking Lexapro (escitaploprgra...</td>\n",
       "      <td>9</td>\n",
       "      <td>8-Oct-16</td>\n",
       "      <td>11</td>\n",
       "    </tr>\n",
       "    <tr>\n",
       "      <th>130945</th>\n",
       "      <td>Levonorgestrel</td>\n",
       "      <td>Birth Control</td>\n",
       "      <td>\"I&amp;#039;m married, 34 years old and I have no ...</td>\n",
       "      <td>8</td>\n",
       "      <td>15-Nov-10</td>\n",
       "      <td>7</td>\n",
       "    </tr>\n",
       "  </tbody>\n",
       "</table>\n",
       "<p>134269 rows × 6 columns</p>\n",
       "</div>"
      ],
      "text/plain": [
       "                          drugName                     condition  \\\n",
       "uniqueID                                                           \n",
       "92703                       Lybrel                 Birth Control   \n",
       "138000                  Ortho Evra                 Birth Control   \n",
       "35696     Buprenorphine / naloxone             Opiate Dependence   \n",
       "155963                      Cialis  Benign Prostatic Hyperplasia   \n",
       "165907              Levonorgestrel       Emergency Contraception   \n",
       "...                            ...                           ...   \n",
       "35261                 Levofloxacin                    Bronchitis   \n",
       "33495        Microgestin Fe 1 / 20                 Birth Control   \n",
       "123432                        Apri                 Birth Control   \n",
       "140714                Escitalopram                       Anxiety   \n",
       "130945              Levonorgestrel                 Birth Control   \n",
       "\n",
       "                                                     review  rating  \\\n",
       "uniqueID                                                              \n",
       "92703     \"I used to take another oral contraceptive, wh...       5   \n",
       "138000    \"This is my first time using any form of birth...       8   \n",
       "35696     \"Suboxone has completely turned my life around...       9   \n",
       "155963    \"2nd day on 5mg started to work with rock hard...       2   \n",
       "165907    \"He pulled out, but he cummed a bit in me. I t...       1   \n",
       "...                                                     ...     ...   \n",
       "35261     \"This is my 3rd time taking this medicine. Fir...      10   \n",
       "33495     \"I was on Microgestin for about 3 years. Over ...       6   \n",
       "123432    \"I started taking Apri about 7 months ago. My ...       9   \n",
       "140714    \"I&#039;ve been taking Lexapro (escitaploprgra...       9   \n",
       "130945    \"I&#039;m married, 34 years old and I have no ...       8   \n",
       "\n",
       "               date  usefulCount  \n",
       "uniqueID                          \n",
       "92703     14-Dec-09           17  \n",
       "138000     3-Nov-15           10  \n",
       "35696     27-Nov-16           37  \n",
       "155963    28-Nov-15           43  \n",
       "165907     7-Mar-17            5  \n",
       "...             ...          ...  \n",
       "35261     26-Oct-14           29  \n",
       "33495      1-Aug-14           15  \n",
       "123432    25-Aug-10           18  \n",
       "140714     8-Oct-16           11  \n",
       "130945    15-Nov-10            7  \n",
       "\n",
       "[134269 rows x 6 columns]"
      ]
     },
     "execution_count": 34,
     "metadata": {},
     "output_type": "execute_result"
    }
   ],
   "source": [
    "# Before replacing the symbol &#039;\n",
    "data[data[\"review\"].str.contains(\"&#039;\")==True]"
   ]
  },
  {
   "cell_type": "markdown",
   "id": "e3434049",
   "metadata": {},
   "source": [
    "## Cleaning Data"
   ]
  },
  {
   "cell_type": "markdown",
   "id": "ea12749d",
   "metadata": {},
   "source": [
    "### Replace rows with \"users found this comment helpful.\" with null to be treated later"
   ]
  },
  {
   "cell_type": "code",
   "execution_count": 29,
   "id": "5f94b4d3",
   "metadata": {},
   "outputs": [
    {
     "data": {
      "text/html": [
       "<div>\n",
       "<style scoped>\n",
       "    .dataframe tbody tr th:only-of-type {\n",
       "        vertical-align: middle;\n",
       "    }\n",
       "\n",
       "    .dataframe tbody tr th {\n",
       "        vertical-align: top;\n",
       "    }\n",
       "\n",
       "    .dataframe thead th {\n",
       "        text-align: right;\n",
       "    }\n",
       "</style>\n",
       "<table border=\"1\" class=\"dataframe\">\n",
       "  <thead>\n",
       "    <tr style=\"text-align: right;\">\n",
       "      <th></th>\n",
       "      <th>drugName</th>\n",
       "      <th>condition</th>\n",
       "      <th>review</th>\n",
       "      <th>rating</th>\n",
       "      <th>date</th>\n",
       "      <th>usefulCount</th>\n",
       "    </tr>\n",
       "    <tr>\n",
       "      <th>uniqueID</th>\n",
       "      <th></th>\n",
       "      <th></th>\n",
       "      <th></th>\n",
       "      <th></th>\n",
       "      <th></th>\n",
       "      <th></th>\n",
       "    </tr>\n",
       "  </thead>\n",
       "  <tbody>\n",
       "    <tr>\n",
       "      <th>220696</th>\n",
       "      <td>Loestrin 24 Fe</td>\n",
       "      <td>2&lt;/span&gt; users found this comment helpful.</td>\n",
       "      <td>\"I&amp;#039;m 16 and  I have been on Loestrin 24 f...</td>\n",
       "      <td>3</td>\n",
       "      <td>3-Nov-10</td>\n",
       "      <td>2</td>\n",
       "    </tr>\n",
       "    <tr>\n",
       "      <th>67383</th>\n",
       "      <td>Provera</td>\n",
       "      <td>4&lt;/span&gt; users found this comment helpful.</td>\n",
       "      <td>\"I&amp;#039;m 24 years old and have always had a p...</td>\n",
       "      <td>1</td>\n",
       "      <td>27-Mar-16</td>\n",
       "      <td>4</td>\n",
       "    </tr>\n",
       "    <tr>\n",
       "      <th>81588</th>\n",
       "      <td>Yaz</td>\n",
       "      <td>3&lt;/span&gt; users found this comment helpful.</td>\n",
       "      <td>\"I took Yaz for a little over 2 years.  From a...</td>\n",
       "      <td>3</td>\n",
       "      <td>1-Jun-10</td>\n",
       "      <td>3</td>\n",
       "    </tr>\n",
       "    <tr>\n",
       "      <th>132965</th>\n",
       "      <td>Loestrin 24 Fe</td>\n",
       "      <td>4&lt;/span&gt; users found this comment helpful.</td>\n",
       "      <td>\"Took this pill for 1.) Acne and 2.) Birth Con...</td>\n",
       "      <td>2</td>\n",
       "      <td>24-Jun-14</td>\n",
       "      <td>4</td>\n",
       "    </tr>\n",
       "    <tr>\n",
       "      <th>91050</th>\n",
       "      <td>Norco</td>\n",
       "      <td>11&lt;/span&gt; users found this comment helpful.</td>\n",
       "      <td>\"I have suffered with low back pain - 2 surger...</td>\n",
       "      <td>9</td>\n",
       "      <td>15-Mar-09</td>\n",
       "      <td>11</td>\n",
       "    </tr>\n",
       "    <tr>\n",
       "      <th>...</th>\n",
       "      <td>...</td>\n",
       "      <td>...</td>\n",
       "      <td>...</td>\n",
       "      <td>...</td>\n",
       "      <td>...</td>\n",
       "      <td>...</td>\n",
       "    </tr>\n",
       "    <tr>\n",
       "      <th>133354</th>\n",
       "      <td>Tri-Sprintec</td>\n",
       "      <td>3&lt;/span&gt; users found this comment helpful.</td>\n",
       "      <td>\"I have been taking this pill for less than a ...</td>\n",
       "      <td>8</td>\n",
       "      <td>24-Sep-10</td>\n",
       "      <td>3</td>\n",
       "    </tr>\n",
       "    <tr>\n",
       "      <th>149494</th>\n",
       "      <td>Mirena</td>\n",
       "      <td>5&lt;/span&gt; users found this comment helpful.</td>\n",
       "      <td>\"I got the Mirena put in last month. And holy ...</td>\n",
       "      <td>7</td>\n",
       "      <td>12-Feb-13</td>\n",
       "      <td>5</td>\n",
       "    </tr>\n",
       "    <tr>\n",
       "      <th>91988</th>\n",
       "      <td>Lyrica</td>\n",
       "      <td>21&lt;/span&gt; users found this comment helpful.</td>\n",
       "      <td>\"It was a nightmare.I had the worse side effec...</td>\n",
       "      <td>1</td>\n",
       "      <td>14-Apr-15</td>\n",
       "      <td>21</td>\n",
       "    </tr>\n",
       "    <tr>\n",
       "      <th>174757</th>\n",
       "      <td>Dulera</td>\n",
       "      <td>28&lt;/span&gt; users found this comment helpful.</td>\n",
       "      <td>\"My 10 year old son took Dulera for asthma.  I...</td>\n",
       "      <td>1</td>\n",
       "      <td>29-Feb-12</td>\n",
       "      <td>28</td>\n",
       "    </tr>\n",
       "    <tr>\n",
       "      <th>37632</th>\n",
       "      <td>Vyvanse</td>\n",
       "      <td>5&lt;/span&gt; users found this comment helpful.</td>\n",
       "      <td>\"Wonderful drug, after being on narcotics for ...</td>\n",
       "      <td>9</td>\n",
       "      <td>29-Dec-09</td>\n",
       "      <td>5</td>\n",
       "    </tr>\n",
       "  </tbody>\n",
       "</table>\n",
       "<p>1171 rows × 6 columns</p>\n",
       "</div>"
      ],
      "text/plain": [
       "                drugName                                    condition  \\\n",
       "uniqueID                                                                \n",
       "220696    Loestrin 24 Fe   2</span> users found this comment helpful.   \n",
       "67383            Provera   4</span> users found this comment helpful.   \n",
       "81588                Yaz   3</span> users found this comment helpful.   \n",
       "132965    Loestrin 24 Fe   4</span> users found this comment helpful.   \n",
       "91050              Norco  11</span> users found this comment helpful.   \n",
       "...                  ...                                          ...   \n",
       "133354      Tri-Sprintec   3</span> users found this comment helpful.   \n",
       "149494            Mirena   5</span> users found this comment helpful.   \n",
       "91988             Lyrica  21</span> users found this comment helpful.   \n",
       "174757            Dulera  28</span> users found this comment helpful.   \n",
       "37632            Vyvanse   5</span> users found this comment helpful.   \n",
       "\n",
       "                                                     review  rating  \\\n",
       "uniqueID                                                              \n",
       "220696    \"I&#039;m 16 and  I have been on Loestrin 24 f...       3   \n",
       "67383     \"I&#039;m 24 years old and have always had a p...       1   \n",
       "81588     \"I took Yaz for a little over 2 years.  From a...       3   \n",
       "132965    \"Took this pill for 1.) Acne and 2.) Birth Con...       2   \n",
       "91050     \"I have suffered with low back pain - 2 surger...       9   \n",
       "...                                                     ...     ...   \n",
       "133354    \"I have been taking this pill for less than a ...       8   \n",
       "149494    \"I got the Mirena put in last month. And holy ...       7   \n",
       "91988     \"It was a nightmare.I had the worse side effec...       1   \n",
       "174757    \"My 10 year old son took Dulera for asthma.  I...       1   \n",
       "37632     \"Wonderful drug, after being on narcotics for ...       9   \n",
       "\n",
       "               date  usefulCount  \n",
       "uniqueID                          \n",
       "220696     3-Nov-10            2  \n",
       "67383     27-Mar-16            4  \n",
       "81588      1-Jun-10            3  \n",
       "132965    24-Jun-14            4  \n",
       "91050     15-Mar-09           11  \n",
       "...             ...          ...  \n",
       "133354    24-Sep-10            3  \n",
       "149494    12-Feb-13            5  \n",
       "91988     14-Apr-15           21  \n",
       "174757    29-Feb-12           28  \n",
       "37632     29-Dec-09            5  \n",
       "\n",
       "[1171 rows x 6 columns]"
      ]
     },
     "execution_count": 29,
     "metadata": {},
     "output_type": "execute_result"
    }
   ],
   "source": [
    "data[data[\"condition\"].str.contains(\"users found this comment helpful.\")==True]"
   ]
  },
  {
   "cell_type": "code",
   "execution_count": 30,
   "id": "a8e7a009",
   "metadata": {},
   "outputs": [],
   "source": [
    "data[\"condition\"] = np.where(data[\"condition\"].str.contains(\"users found this comment helpful.\")==True, np.NaN, data[\"condition\"])\n"
   ]
  },
  {
   "cell_type": "code",
   "execution_count": 31,
   "id": "24e6fd0b",
   "metadata": {},
   "outputs": [],
   "source": [
    "## data = data.drop(data[data[\"condition\"].str.contains(\"users found this comment helpful.\")==True].index)"
   ]
  },
  {
   "cell_type": "code",
   "execution_count": 32,
   "id": "3b1e679a",
   "metadata": {},
   "outputs": [
    {
     "data": {
      "text/html": [
       "<div>\n",
       "<style scoped>\n",
       "    .dataframe tbody tr th:only-of-type {\n",
       "        vertical-align: middle;\n",
       "    }\n",
       "\n",
       "    .dataframe tbody tr th {\n",
       "        vertical-align: top;\n",
       "    }\n",
       "\n",
       "    .dataframe thead th {\n",
       "        text-align: right;\n",
       "    }\n",
       "</style>\n",
       "<table border=\"1\" class=\"dataframe\">\n",
       "  <thead>\n",
       "    <tr style=\"text-align: right;\">\n",
       "      <th></th>\n",
       "      <th>drugName</th>\n",
       "      <th>condition</th>\n",
       "      <th>review</th>\n",
       "      <th>rating</th>\n",
       "      <th>date</th>\n",
       "      <th>usefulCount</th>\n",
       "    </tr>\n",
       "    <tr>\n",
       "      <th>uniqueID</th>\n",
       "      <th></th>\n",
       "      <th></th>\n",
       "      <th></th>\n",
       "      <th></th>\n",
       "      <th></th>\n",
       "      <th></th>\n",
       "    </tr>\n",
       "  </thead>\n",
       "  <tbody>\n",
       "  </tbody>\n",
       "</table>\n",
       "</div>"
      ],
      "text/plain": [
       "Empty DataFrame\n",
       "Columns: [drugName, condition, review, rating, date, usefulCount]\n",
       "Index: []"
      ]
     },
     "execution_count": 32,
     "metadata": {},
     "output_type": "execute_result"
    }
   ],
   "source": [
    "data[data[\"condition\"].str.contains(\"users found this comment helpful.\")==True]"
   ]
  },
  {
   "cell_type": "markdown",
   "id": "4ae4b95e",
   "metadata": {},
   "source": [
    "### Fill up null values in condition column"
   ]
  },
  {
   "cell_type": "code",
   "execution_count": 33,
   "id": "2df91cec",
   "metadata": {},
   "outputs": [],
   "source": [
    "for medic in data[data[\"condition\"].isna()].drugName.unique():\n",
    "    if len(data[(data[\"drugName\"]==medic)].condition.mode())>0 :\n",
    "        frequent = data[(data[\"drugName\"]==medic)].condition.mode()[0]\n",
    "        data.loc[(data[\"condition\"].isna()) & (data[\"drugName\"] == medic), [\"condition\"]] = frequent   "
   ]
  },
  {
   "cell_type": "markdown",
   "id": "ff40cd13",
   "metadata": {},
   "source": [
    "### Replace symbols with correpondant character"
   ]
  },
  {
   "cell_type": "code",
   "execution_count": 35,
   "id": "27132477",
   "metadata": {},
   "outputs": [],
   "source": [
    "def replace_char(column, character, replacement):\n",
    "    for i, row in data.iterrows():\n",
    "        newvalue = row[column]\n",
    "        newvalue = newvalue.replace(character,replacement)\n",
    "        data.loc[i,column] = newvalue "
   ]
  },
  {
   "cell_type": "code",
   "execution_count": 36,
   "id": "eb9145fd",
   "metadata": {},
   "outputs": [],
   "source": [
    "replace_char(\"review\",\"&#039;\",\"'\")"
   ]
  },
  {
   "cell_type": "code",
   "execution_count": 38,
   "id": "d59aad3d",
   "metadata": {},
   "outputs": [],
   "source": [
    "replace_char(\"review\",\"&amp;\",\"and\")"
   ]
  },
  {
   "cell_type": "code",
   "execution_count": 39,
   "id": "7dd94914",
   "metadata": {},
   "outputs": [],
   "source": [
    "replace_char(\"review\",\"&quot;\",'\"')"
   ]
  },
  {
   "cell_type": "code",
   "execution_count": 40,
   "id": "9f3716f8",
   "metadata": {},
   "outputs": [],
   "source": [
    "replace_char(\"review\",\"&rsquo;\",\"'\")"
   ]
  },
  {
   "cell_type": "code",
   "execution_count": 41,
   "id": "ccb4092d",
   "metadata": {},
   "outputs": [],
   "source": [
    "replace_char(\"review\",\"&ldquo;\",'\"')"
   ]
  },
  {
   "cell_type": "code",
   "execution_count": 42,
   "id": "45769ac8",
   "metadata": {},
   "outputs": [],
   "source": [
    "replace_char(\"review\",\"&rdquo;\",'\"')"
   ]
  },
  {
   "cell_type": "code",
   "execution_count": 43,
   "id": "184f96df",
   "metadata": {},
   "outputs": [],
   "source": [
    "replace_char(\"review\",\"&lrm;\",'')"
   ]
  },
  {
   "cell_type": "code",
   "execution_count": 44,
   "id": "b15b63f3",
   "metadata": {},
   "outputs": [],
   "source": [
    "replace_char(\"review\",\"&gt;\",'>')"
   ]
  },
  {
   "cell_type": "code",
   "execution_count": 45,
   "id": "ead07cc0",
   "metadata": {},
   "outputs": [],
   "source": [
    "replace_char(\"review\",\"&pound;\",'£')"
   ]
  },
  {
   "cell_type": "code",
   "execution_count": 46,
   "id": "995f8d1b",
   "metadata": {},
   "outputs": [],
   "source": [
    "replace_char(\"review\",\"&lsquo;\",\"'\")"
   ]
  },
  {
   "cell_type": "code",
   "execution_count": 47,
   "id": "f018bef8",
   "metadata": {},
   "outputs": [],
   "source": [
    "replace_char(\"review\",\"&ntilde;\",\"n\")"
   ]
  },
  {
   "cell_type": "code",
   "execution_count": 48,
   "id": "474e404b",
   "metadata": {},
   "outputs": [],
   "source": [
    "replace_char(\"review\",\"&mdash;\",\"-\")"
   ]
  },
  {
   "cell_type": "code",
   "execution_count": 49,
   "id": "31f0806f",
   "metadata": {},
   "outputs": [],
   "source": [
    "replace_char(\"review\",\"&hellip;\",\"...\")"
   ]
  },
  {
   "cell_type": "code",
   "execution_count": 50,
   "id": "01064eab",
   "metadata": {},
   "outputs": [],
   "source": [
    "replace_char(\"review\",\"&eacute;\",\"é\")"
   ]
  },
  {
   "cell_type": "code",
   "execution_count": 51,
   "id": "b5f3af33",
   "metadata": {},
   "outputs": [],
   "source": [
    "replace_char(\"review\",\"&lt;\",\"<\")"
   ]
  },
  {
   "cell_type": "code",
   "execution_count": 52,
   "id": "7bb189b3",
   "metadata": {},
   "outputs": [],
   "source": [
    "replace_char(\"review\",\"&deg;\",\" degrees\")"
   ]
  },
  {
   "cell_type": "markdown",
   "id": "99230a9d",
   "metadata": {},
   "source": [
    "### Drop any remainting row with special characters"
   ]
  },
  {
   "cell_type": "code",
   "execution_count": 53,
   "id": "c5dc05b0",
   "metadata": {},
   "outputs": [
    {
     "data": {
      "text/html": [
       "<div>\n",
       "<style scoped>\n",
       "    .dataframe tbody tr th:only-of-type {\n",
       "        vertical-align: middle;\n",
       "    }\n",
       "\n",
       "    .dataframe tbody tr th {\n",
       "        vertical-align: top;\n",
       "    }\n",
       "\n",
       "    .dataframe thead th {\n",
       "        text-align: right;\n",
       "    }\n",
       "</style>\n",
       "<table border=\"1\" class=\"dataframe\">\n",
       "  <thead>\n",
       "    <tr style=\"text-align: right;\">\n",
       "      <th></th>\n",
       "      <th>drugName</th>\n",
       "      <th>condition</th>\n",
       "      <th>review</th>\n",
       "      <th>rating</th>\n",
       "      <th>date</th>\n",
       "      <th>usefulCount</th>\n",
       "    </tr>\n",
       "    <tr>\n",
       "      <th>uniqueID</th>\n",
       "      <th></th>\n",
       "      <th></th>\n",
       "      <th></th>\n",
       "      <th></th>\n",
       "      <th></th>\n",
       "      <th></th>\n",
       "    </tr>\n",
       "  </thead>\n",
       "  <tbody>\n",
       "    <tr>\n",
       "      <th>207231</th>\n",
       "      <td>Valtrex</td>\n",
       "      <td>Herpes Simplex, Suppression</td>\n",
       "      <td>\"I found out I had genital hsv 1 about a month...</td>\n",
       "      <td>9</td>\n",
       "      <td>3-Sep-16</td>\n",
       "      <td>17</td>\n",
       "    </tr>\n",
       "    <tr>\n",
       "      <th>115035</th>\n",
       "      <td>Diazepam</td>\n",
       "      <td>Anxiety</td>\n",
       "      <td>\"After taking Chantix for smoking cessation I ...</td>\n",
       "      <td>9</td>\n",
       "      <td>1-Aug-15</td>\n",
       "      <td>68</td>\n",
       "    </tr>\n",
       "    <tr>\n",
       "      <th>153782</th>\n",
       "      <td>Amoxicillin</td>\n",
       "      <td>Urinary Tract Infection</td>\n",
       "      <td>\"Only used this to cure my UTI so it wouldn't ...</td>\n",
       "      <td>1</td>\n",
       "      <td>23-Nov-16</td>\n",
       "      <td>28</td>\n",
       "    </tr>\n",
       "    <tr>\n",
       "      <th>163096</th>\n",
       "      <td>ella</td>\n",
       "      <td>Emergency Contraception</td>\n",
       "      <td>\"Hey,\\r\\r\\nSo I took the ellaOne about 7h afte...</td>\n",
       "      <td>9</td>\n",
       "      <td>13-Sep-16</td>\n",
       "      <td>10</td>\n",
       "    </tr>\n",
       "    <tr>\n",
       "      <th>216569</th>\n",
       "      <td>Sucralfate</td>\n",
       "      <td>GERD</td>\n",
       "      <td>\"I have been diagnosed with extreme acid reflu...</td>\n",
       "      <td>2</td>\n",
       "      <td>7-Mar-17</td>\n",
       "      <td>12</td>\n",
       "    </tr>\n",
       "    <tr>\n",
       "      <th>...</th>\n",
       "      <td>...</td>\n",
       "      <td>...</td>\n",
       "      <td>...</td>\n",
       "      <td>...</td>\n",
       "      <td>...</td>\n",
       "      <td>...</td>\n",
       "    </tr>\n",
       "    <tr>\n",
       "      <th>159098</th>\n",
       "      <td>TriNessa</td>\n",
       "      <td>Birth Control</td>\n",
       "      <td>\"I'm 19 and this is my first birth control pil...</td>\n",
       "      <td>8</td>\n",
       "      <td>12-Jan-17</td>\n",
       "      <td>11</td>\n",
       "    </tr>\n",
       "    <tr>\n",
       "      <th>214045</th>\n",
       "      <td>Tioconazole</td>\n",
       "      <td>Vaginal Yeast Infection</td>\n",
       "      <td>\"It has been 3 years since I tried this produc...</td>\n",
       "      <td>1</td>\n",
       "      <td>2-Jul-16</td>\n",
       "      <td>13</td>\n",
       "    </tr>\n",
       "    <tr>\n",
       "      <th>93922</th>\n",
       "      <td>Trintellix</td>\n",
       "      <td>Major Depressive Disorde</td>\n",
       "      <td>\"I have dealt with chronic depression most of ...</td>\n",
       "      <td>10</td>\n",
       "      <td>6-May-17</td>\n",
       "      <td>46</td>\n",
       "    </tr>\n",
       "    <tr>\n",
       "      <th>202809</th>\n",
       "      <td>Loperamide</td>\n",
       "      <td>Diarrhea, Acute</td>\n",
       "      <td>\"I've had diarrhoea for 3 days now with minima...</td>\n",
       "      <td>8</td>\n",
       "      <td>28-Mar-16</td>\n",
       "      <td>6</td>\n",
       "    </tr>\n",
       "    <tr>\n",
       "      <th>110775</th>\n",
       "      <td>Imodium</td>\n",
       "      <td>Diarrhea, Acute</td>\n",
       "      <td>\"I've had diarrhoea for 3 days now with minima...</td>\n",
       "      <td>8</td>\n",
       "      <td>28-Mar-16</td>\n",
       "      <td>6</td>\n",
       "    </tr>\n",
       "  </tbody>\n",
       "</table>\n",
       "<p>195 rows × 6 columns</p>\n",
       "</div>"
      ],
      "text/plain": [
       "             drugName                    condition  \\\n",
       "uniqueID                                             \n",
       "207231        Valtrex  Herpes Simplex, Suppression   \n",
       "115035       Diazepam                      Anxiety   \n",
       "153782    Amoxicillin      Urinary Tract Infection   \n",
       "163096           ella      Emergency Contraception   \n",
       "216569     Sucralfate                         GERD   \n",
       "...               ...                          ...   \n",
       "159098       TriNessa                Birth Control   \n",
       "214045    Tioconazole      Vaginal Yeast Infection   \n",
       "93922      Trintellix     Major Depressive Disorde   \n",
       "202809     Loperamide              Diarrhea, Acute   \n",
       "110775        Imodium              Diarrhea, Acute   \n",
       "\n",
       "                                                     review  rating  \\\n",
       "uniqueID                                                              \n",
       "207231    \"I found out I had genital hsv 1 about a month...       9   \n",
       "115035    \"After taking Chantix for smoking cessation I ...       9   \n",
       "153782    \"Only used this to cure my UTI so it wouldn't ...       1   \n",
       "163096    \"Hey,\\r\\r\\nSo I took the ellaOne about 7h afte...       9   \n",
       "216569    \"I have been diagnosed with extreme acid reflu...       2   \n",
       "...                                                     ...     ...   \n",
       "159098    \"I'm 19 and this is my first birth control pil...       8   \n",
       "214045    \"It has been 3 years since I tried this produc...       1   \n",
       "93922     \"I have dealt with chronic depression most of ...      10   \n",
       "202809    \"I've had diarrhoea for 3 days now with minima...       8   \n",
       "110775    \"I've had diarrhoea for 3 days now with minima...       8   \n",
       "\n",
       "               date  usefulCount  \n",
       "uniqueID                          \n",
       "207231     3-Sep-16           17  \n",
       "115035     1-Aug-15           68  \n",
       "153782    23-Nov-16           28  \n",
       "163096    13-Sep-16           10  \n",
       "216569     7-Mar-17           12  \n",
       "...             ...          ...  \n",
       "159098    12-Jan-17           11  \n",
       "214045     2-Jul-16           13  \n",
       "93922      6-May-17           46  \n",
       "202809    28-Mar-16            6  \n",
       "110775    28-Mar-16            6  \n",
       "\n",
       "[195 rows x 6 columns]"
      ]
     },
     "execution_count": 53,
     "metadata": {},
     "output_type": "execute_result"
    }
   ],
   "source": [
    "data[data[\"review\"].str.contains(\"&\")==True]"
   ]
  },
  {
   "cell_type": "code",
   "execution_count": 54,
   "id": "ee87b82f",
   "metadata": {},
   "outputs": [],
   "source": [
    "data.drop(data[data[\"review\"].str.contains(\"&\")==True].index, inplace = True)"
   ]
  },
  {
   "cell_type": "code",
   "execution_count": 55,
   "id": "3839f63b",
   "metadata": {},
   "outputs": [],
   "source": [
    "#from nltk.probability import FreqDist\n",
    "#fdist = FreqDist(words)\n",
    "# To find the frequency of top 10 words\n",
    "#fdist1 = fdist.most_common(100)\n",
    "#fdist1"
   ]
  },
  {
   "cell_type": "markdown",
   "id": "dd3334db",
   "metadata": {},
   "source": [
    "### Remove outliers"
   ]
  },
  {
   "cell_type": "code",
   "execution_count": 56,
   "id": "b4839a5a",
   "metadata": {},
   "outputs": [],
   "source": [
    "data.drop(data[data[\"usefulCount\"]>200].index, inplace = True)"
   ]
  },
  {
   "cell_type": "code",
   "execution_count": 57,
   "id": "b6876883",
   "metadata": {},
   "outputs": [],
   "source": [
    "data.to_csv(\"CleanData.csv\")"
   ]
  },
  {
   "cell_type": "markdown",
   "id": "ac03b30b",
   "metadata": {},
   "source": [
    "## Data Preparation for setiment analysis"
   ]
  },
  {
   "cell_type": "markdown",
   "id": "5b864885",
   "metadata": {},
   "source": [
    "### Cleaning and stemming reviews"
   ]
  },
  {
   "cell_type": "code",
   "execution_count": 59,
   "id": "cb452fd0",
   "metadata": {},
   "outputs": [],
   "source": [
    "def remove_stop_words_punc (text, stop_words):\n",
    "    #words= text.split\n",
    "    #token = word_tokenize(text)\n",
    "    list_words = [w for w in word_tokenize(text) if not w in stop_words]\n",
    "    recons_text = \" \".join(list_words)\n",
    "    recons_text = recons_text.translate(str.maketrans(\"\",\"\", string.punctuation))\n",
    "    recons_text = \"\".join([i for i in recons_text if not i.isdigit()])\n",
    "    while \"  \" in recons_text :\n",
    "        recons_text = recons_text.replace(\"  \", \" \")\n",
    "    return recons_text\n"
   ]
  },
  {
   "cell_type": "code",
   "execution_count": 60,
   "id": "8d31bbb3",
   "metadata": {},
   "outputs": [],
   "source": [
    "def stemming(sentence):\n",
    "    porter=PorterStemmer()\n",
    "    token_words=word_tokenize(sentence)\n",
    "    token_words\n",
    "    stem_sentence=[]\n",
    "    for word in token_words:\n",
    "        stem_sentence.append(porter.stem(word))\n",
    "        stem_sentence.append(\" \")\n",
    "    return \"\".join(stem_sentence)"
   ]
  },
  {
   "cell_type": "code",
   "execution_count": 61,
   "id": "fb578ac3",
   "metadata": {},
   "outputs": [],
   "source": [
    "stop_words = set(stopwords.words('english'))\n",
    "for i, row in data.iterrows():\n",
    "    newvalue = row[\"review\"]\n",
    "    newvalue = stemming(remove_stop_words_punc(newvalue, stop_words))\n",
    "    data.loc[i,\"review\"] = newvalue"
   ]
  },
  {
   "cell_type": "markdown",
   "id": "08b21661",
   "metadata": {},
   "source": [
    "## Exploratory Data Analysis"
   ]
  },
  {
   "cell_type": "markdown",
   "id": "1cce0c40",
   "metadata": {},
   "source": [
    "### Distribution After cleaning "
   ]
  },
  {
   "cell_type": "code",
   "execution_count": 58,
   "id": "eb097891",
   "metadata": {},
   "outputs": [
    {
     "data": {
      "text/plain": [
       "array([[<AxesSubplot:title={'center':'rating'}>,\n",
       "        <AxesSubplot:title={'center':'usefulCount'}>]], dtype=object)"
      ]
     },
     "execution_count": 58,
     "metadata": {},
     "output_type": "execute_result"
    },
    {
     "data": {
      "image/png": "[encoded data removed]",
      "text/plain": [
       "<Figure size 1080x360 with 2 Axes>"
      ]
     },
     "metadata": {
      "needs_background": "light"
     },
     "output_type": "display_data"
    }
   ],
   "source": [
    "data.hist(bins=30, figsize=(15, 5))"
   ]
  },
  {
   "cell_type": "markdown",
   "id": "865d2abb",
   "metadata": {},
   "source": [
    "### Word Cloud "
   ]
  },
  {
   "cell_type": "code",
   "execution_count": 62,
   "id": "814a46f6",
   "metadata": {},
   "outputs": [],
   "source": [
    "from wordcloud import WordCloud, STOPWORDS, ImageColorGenerator\n",
    "wordcloud2 = WordCloud().generate(' '.join(data['review']).lower())"
   ]
  },
  {
   "cell_type": "code",
   "execution_count": 63,
   "id": "284eeb98",
   "metadata": {},
   "outputs": [
    {
     "data": {
      "image/png": "[encoded data removed]",
      "text/plain": [
       "<Figure size 432x288 with 1 Axes>"
      ]
     },
     "metadata": {
      "needs_background": "light"
     },
     "output_type": "display_data"
    }
   ],
   "source": [
    "plt.imshow(wordcloud2)\n",
    "plt.axis(\"off\")\n",
    "plt.show()"
   ]
  },
  {
   "cell_type": "code",
   "execution_count": 64,
   "id": "97641fca",
   "metadata": {},
   "outputs": [],
   "source": [
    "text = \" \".join(data['review'])"
   ]
  },
  {
   "cell_type": "code",
   "execution_count": 65,
   "id": "078293e7",
   "metadata": {},
   "outputs": [],
   "source": [
    "text_dictionary = wordcloud2.process_text(text)\n",
    "word_freq={k: v for k, v in sorted(text_dictionary.items(),reverse=True, key=lambda item: item[1])}"
   ]
  },
  {
   "cell_type": "markdown",
   "id": "06e23bbc",
   "metadata": {},
   "source": [
    "### Sentiment Score using TextBlob"
   ]
  },
  {
   "cell_type": "code",
   "execution_count": 66,
   "id": "df239daa",
   "metadata": {},
   "outputs": [],
   "source": [
    "for i, line in data.iterrows():\n",
    "    feedback = line.values[2]\n",
    "    blob = TextBlob(feedback)\n",
    "    data.loc[i,\"blob\"]  = blob.sentiment[0]"
   ]
  },
  {
   "cell_type": "code",
   "execution_count": 67,
   "id": "5265e81c",
   "metadata": {},
   "outputs": [
    {
     "data": {
      "text/plain": [
       "<AxesSubplot:title={'center':'Average sentiment per rating'}, xlabel='rating'>"
      ]
     },
     "execution_count": 67,
     "metadata": {},
     "output_type": "execute_result"
    },
    {
     "data": {
      "image/png": "[encoded data removed]",
      "text/plain": [
       "<Figure size 432x288 with 1 Axes>"
      ]
     },
     "metadata": {
      "needs_background": "light"
     },
     "output_type": "display_data"
    }
   ],
   "source": [
    "reviews_blob = data.groupby(by = \"rating\").blob.mean()\n",
    "reviews_blob.plot(kind = \"bar\", y = \"mean\", legend = False, title = \"Average sentiment per rating using TextBlob\")"
   ]
  },
  {
   "cell_type": "markdown",
   "id": "05fd6259",
   "metadata": {},
   "source": [
    "## Sentiment Score using NLTK"
   ]
  },
  {
   "cell_type": "code",
   "execution_count": 68,
   "id": "8b69a6f1",
   "metadata": {},
   "outputs": [],
   "source": [
    "for i, line in data.iterrows():\n",
    "    feedback = line.values[2]\n",
    "    sia = SentimentIntensityAnalyzer()\n",
    "    data.loc[i,\"Positive\"]  = sia.polarity_scores(feedback)[\"pos\"]\n",
    "    data.loc[i,\"Negative\"]  = sia.polarity_scores(feedback)[\"neg\"]\n",
    "    data.loc[i,\"compound\"]  = sia.polarity_scores(feedback)[\"compound\"]\n",
    "    ####data.loc[i,\"neu\"]  = sia.polarity_scores(feedback)[\"compound\"]  "
   ]
  },
  {
   "cell_type": "code",
   "execution_count": 69,
   "id": "547ff994",
   "metadata": {},
   "outputs": [
    {
     "data": {
      "text/plain": [
       "<AxesSubplot:title={'center':'Average sentiment per rating'}, xlabel='rating'>"
      ]
     },
     "execution_count": 69,
     "metadata": {},
     "output_type": "execute_result"
    },
    {
     "data": {
      "image/png": "[encoded data removed]",
      "text/plain": [
       "<Figure size 432x288 with 1 Axes>"
      ]
     },
     "metadata": {
      "needs_background": "light"
     },
     "output_type": "display_data"
    }
   ],
   "source": [
    "reviews = data.groupby(by = \"rating\").compound.mean() \n",
    "reviews.plot(kind = \"bar\", y = \"mean\", legend = False, title = \"Average sentiment per rating using NLTK\")"
   ]
  },
  {
   "cell_type": "markdown",
   "id": "15a69f68",
   "metadata": {},
   "source": [
    "### Correlation Matrix"
   ]
  },
  {
   "cell_type": "code",
   "execution_count": 70,
   "id": "75a45266",
   "metadata": {},
   "outputs": [
    {
     "data": {
      "image/png": "[encoded data removed]",
      "text/plain": [
       "<Figure size 864x720 with 2 Axes>"
      ]
     },
     "metadata": {
      "needs_background": "light"
     },
     "output_type": "display_data"
    }
   ],
   "source": [
    "plt.figure(figsize=(12,10))\n",
    "cor = data.corr()\n",
    "sns.heatmap(cor, annot=True, cmap=plt.cm.Reds)\n",
    "plt.show()"
   ]
  },
  {
   "cell_type": "code",
   "execution_count": 71,
   "id": "d005ad5b",
   "metadata": {},
   "outputs": [],
   "source": [
    "data.to_csv('clean_drug_review.csv')"
   ]
  },
  {
   "cell_type": "code",
   "execution_count": 72,
   "id": "ddb52363",
   "metadata": {},
   "outputs": [],
   "source": [
    "## clean_drug_review = pd.read_csv(\"clean_drug_review.csv\", index_col = \"uniqueID\") #, low_memory=False, nrows=100"
   ]
  },
  {
   "cell_type": "code",
   "execution_count": 73,
   "id": "51dc69b5",
   "metadata": {},
   "outputs": [],
   "source": [
    "# find the 10 most frequent words \n",
    "#from nltk.probability import FreqDist\n",
    "#fdist = FreqDist(token)\n",
    "#fdist\n",
    "#fdist.most_common(10)"
   ]
  },
  {
   "cell_type": "markdown",
   "id": "5a8d1c42",
   "metadata": {},
   "source": [
    "## Change Rating to positive (1), Negative (-1), and neutral (0)"
   ]
  },
  {
   "cell_type": "code",
   "execution_count": 74,
   "id": "f8058c16",
   "metadata": {},
   "outputs": [],
   "source": [
    "# Save the final clean dataset  \n",
    "Clean_Data = data.copy()\n",
    "\n",
    "# Replace the ratings to positive, negative, and neutral\n",
    "data[\"rating\"] = np.where(data[\"rating\"]<4, -1 , data[\"rating\"])\n"
   ]
  },
  {
   "cell_type": "code",
   "execution_count": 75,
   "id": "8629ffa1",
   "metadata": {},
   "outputs": [],
   "source": [
    "data[\"rating\"] = np.where(((data[\"rating\"]>=4) &(data[\"rating\"]<7)) , 0 , data[\"rating\"])"
   ]
  },
  {
   "cell_type": "code",
   "execution_count": 76,
   "id": "976f9b57",
   "metadata": {},
   "outputs": [],
   "source": [
    "data[\"rating\"] = np.where(data[\"rating\"]>=7, 1 , data[\"rating\"])\n"
   ]
  },
  {
   "cell_type": "code",
   "execution_count": 77,
   "id": "e94fc114",
   "metadata": {},
   "outputs": [
    {
     "data": {
      "text/plain": [
       "array([ 1,  0, -1])"
      ]
     },
     "execution_count": 77,
     "metadata": {},
     "output_type": "execute_result"
    }
   ],
   "source": [
    "data[\"rating\"].unique()"
   ]
  },
  {
   "cell_type": "markdown",
   "id": "4d6fe7c2",
   "metadata": {},
   "source": [
    "## TF-IDF  "
   ]
  },
  {
   "cell_type": "code",
   "execution_count": 78,
   "id": "f557eedc",
   "metadata": {},
   "outputs": [],
   "source": [
    "from sklearn.feature_extraction.text import TfidfVectorizer\n",
    "#from sklearn.feature_extraction.text import CountVectorizer\n",
    "vectorizer = TfidfVectorizer(max_features= 3000, min_df = 2)\n",
    "vectors = vectorizer.fit_transform(data['review'])\n",
    "feature_names = vectorizer.get_feature_names_out()\n",
    "dense = vectors.todense()\n",
    "denselist = dense.tolist()\n",
    "x = pd.DataFrame(denselist, columns = feature_names)"
   ]
  },
  {
   "cell_type": "code",
   "execution_count": 79,
   "id": "c66b1fa0",
   "metadata": {},
   "outputs": [
    {
     "data": {
      "text/html": [
       "<div>\n",
       "<style scoped>\n",
       "    .dataframe tbody tr th:only-of-type {\n",
       "        vertical-align: middle;\n",
       "    }\n",
       "\n",
       "    .dataframe tbody tr th {\n",
       "        vertical-align: top;\n",
       "    }\n",
       "\n",
       "    .dataframe thead th {\n",
       "        text-align: right;\n",
       "    }\n",
       "</style>\n",
       "<table border=\"1\" class=\"dataframe\">\n",
       "  <thead>\n",
       "    <tr style=\"text-align: right;\">\n",
       "      <th></th>\n",
       "      <th>abdomen</th>\n",
       "      <th>abdomin</th>\n",
       "      <th>abil</th>\n",
       "      <th>abilifi</th>\n",
       "      <th>abl</th>\n",
       "      <th>ablat</th>\n",
       "      <th>abnorm</th>\n",
       "      <th>abort</th>\n",
       "      <th>about</th>\n",
       "      <th>abreva</th>\n",
       "      <th>...</th>\n",
       "      <th>zofran</th>\n",
       "      <th>zoloft</th>\n",
       "      <th>zolpidem</th>\n",
       "      <th>zombi</th>\n",
       "      <th>zomig</th>\n",
       "      <th>zone</th>\n",
       "      <th>zubsolv</th>\n",
       "      <th>zyban</th>\n",
       "      <th>zyprexa</th>\n",
       "      <th>zyrtec</th>\n",
       "    </tr>\n",
       "  </thead>\n",
       "  <tbody>\n",
       "    <tr>\n",
       "      <th>0</th>\n",
       "      <td>0.0</td>\n",
       "      <td>0.0</td>\n",
       "      <td>0.0</td>\n",
       "      <td>0.0</td>\n",
       "      <td>0.0</td>\n",
       "      <td>0.0</td>\n",
       "      <td>0.0</td>\n",
       "      <td>0.0</td>\n",
       "      <td>0.0</td>\n",
       "      <td>0.0</td>\n",
       "      <td>...</td>\n",
       "      <td>0.0</td>\n",
       "      <td>0.000000</td>\n",
       "      <td>0.0</td>\n",
       "      <td>0.0</td>\n",
       "      <td>0.0</td>\n",
       "      <td>0.0</td>\n",
       "      <td>0.0</td>\n",
       "      <td>0.0</td>\n",
       "      <td>0.0</td>\n",
       "      <td>0.0</td>\n",
       "    </tr>\n",
       "    <tr>\n",
       "      <th>1</th>\n",
       "      <td>0.0</td>\n",
       "      <td>0.0</td>\n",
       "      <td>0.0</td>\n",
       "      <td>0.0</td>\n",
       "      <td>0.0</td>\n",
       "      <td>0.0</td>\n",
       "      <td>0.0</td>\n",
       "      <td>0.0</td>\n",
       "      <td>0.0</td>\n",
       "      <td>0.0</td>\n",
       "      <td>...</td>\n",
       "      <td>0.0</td>\n",
       "      <td>0.000000</td>\n",
       "      <td>0.0</td>\n",
       "      <td>0.0</td>\n",
       "      <td>0.0</td>\n",
       "      <td>0.0</td>\n",
       "      <td>0.0</td>\n",
       "      <td>0.0</td>\n",
       "      <td>0.0</td>\n",
       "      <td>0.0</td>\n",
       "    </tr>\n",
       "    <tr>\n",
       "      <th>2</th>\n",
       "      <td>0.0</td>\n",
       "      <td>0.0</td>\n",
       "      <td>0.0</td>\n",
       "      <td>0.0</td>\n",
       "      <td>0.0</td>\n",
       "      <td>0.0</td>\n",
       "      <td>0.0</td>\n",
       "      <td>0.0</td>\n",
       "      <td>0.0</td>\n",
       "      <td>0.0</td>\n",
       "      <td>...</td>\n",
       "      <td>0.0</td>\n",
       "      <td>0.000000</td>\n",
       "      <td>0.0</td>\n",
       "      <td>0.0</td>\n",
       "      <td>0.0</td>\n",
       "      <td>0.0</td>\n",
       "      <td>0.0</td>\n",
       "      <td>0.0</td>\n",
       "      <td>0.0</td>\n",
       "      <td>0.0</td>\n",
       "    </tr>\n",
       "    <tr>\n",
       "      <th>3</th>\n",
       "      <td>0.0</td>\n",
       "      <td>0.0</td>\n",
       "      <td>0.0</td>\n",
       "      <td>0.0</td>\n",
       "      <td>0.0</td>\n",
       "      <td>0.0</td>\n",
       "      <td>0.0</td>\n",
       "      <td>0.0</td>\n",
       "      <td>0.0</td>\n",
       "      <td>0.0</td>\n",
       "      <td>...</td>\n",
       "      <td>0.0</td>\n",
       "      <td>0.000000</td>\n",
       "      <td>0.0</td>\n",
       "      <td>0.0</td>\n",
       "      <td>0.0</td>\n",
       "      <td>0.0</td>\n",
       "      <td>0.0</td>\n",
       "      <td>0.0</td>\n",
       "      <td>0.0</td>\n",
       "      <td>0.0</td>\n",
       "    </tr>\n",
       "    <tr>\n",
       "      <th>4</th>\n",
       "      <td>0.0</td>\n",
       "      <td>0.0</td>\n",
       "      <td>0.0</td>\n",
       "      <td>0.0</td>\n",
       "      <td>0.0</td>\n",
       "      <td>0.0</td>\n",
       "      <td>0.0</td>\n",
       "      <td>0.0</td>\n",
       "      <td>0.0</td>\n",
       "      <td>0.0</td>\n",
       "      <td>...</td>\n",
       "      <td>0.0</td>\n",
       "      <td>0.000000</td>\n",
       "      <td>0.0</td>\n",
       "      <td>0.0</td>\n",
       "      <td>0.0</td>\n",
       "      <td>0.0</td>\n",
       "      <td>0.0</td>\n",
       "      <td>0.0</td>\n",
       "      <td>0.0</td>\n",
       "      <td>0.0</td>\n",
       "    </tr>\n",
       "    <tr>\n",
       "      <th>...</th>\n",
       "      <td>...</td>\n",
       "      <td>...</td>\n",
       "      <td>...</td>\n",
       "      <td>...</td>\n",
       "      <td>...</td>\n",
       "      <td>...</td>\n",
       "      <td>...</td>\n",
       "      <td>...</td>\n",
       "      <td>...</td>\n",
       "      <td>...</td>\n",
       "      <td>...</td>\n",
       "      <td>...</td>\n",
       "      <td>...</td>\n",
       "      <td>...</td>\n",
       "      <td>...</td>\n",
       "      <td>...</td>\n",
       "      <td>...</td>\n",
       "      <td>...</td>\n",
       "      <td>...</td>\n",
       "      <td>...</td>\n",
       "      <td>...</td>\n",
       "    </tr>\n",
       "    <tr>\n",
       "      <th>213701</th>\n",
       "      <td>0.0</td>\n",
       "      <td>0.0</td>\n",
       "      <td>0.0</td>\n",
       "      <td>0.0</td>\n",
       "      <td>0.0</td>\n",
       "      <td>0.0</td>\n",
       "      <td>0.0</td>\n",
       "      <td>0.0</td>\n",
       "      <td>0.0</td>\n",
       "      <td>0.0</td>\n",
       "      <td>...</td>\n",
       "      <td>0.0</td>\n",
       "      <td>0.000000</td>\n",
       "      <td>0.0</td>\n",
       "      <td>0.0</td>\n",
       "      <td>0.0</td>\n",
       "      <td>0.0</td>\n",
       "      <td>0.0</td>\n",
       "      <td>0.0</td>\n",
       "      <td>0.0</td>\n",
       "      <td>0.0</td>\n",
       "    </tr>\n",
       "    <tr>\n",
       "      <th>213702</th>\n",
       "      <td>0.0</td>\n",
       "      <td>0.0</td>\n",
       "      <td>0.0</td>\n",
       "      <td>0.0</td>\n",
       "      <td>0.0</td>\n",
       "      <td>0.0</td>\n",
       "      <td>0.0</td>\n",
       "      <td>0.0</td>\n",
       "      <td>0.0</td>\n",
       "      <td>0.0</td>\n",
       "      <td>...</td>\n",
       "      <td>0.0</td>\n",
       "      <td>0.124078</td>\n",
       "      <td>0.0</td>\n",
       "      <td>0.0</td>\n",
       "      <td>0.0</td>\n",
       "      <td>0.0</td>\n",
       "      <td>0.0</td>\n",
       "      <td>0.0</td>\n",
       "      <td>0.0</td>\n",
       "      <td>0.0</td>\n",
       "    </tr>\n",
       "    <tr>\n",
       "      <th>213703</th>\n",
       "      <td>0.0</td>\n",
       "      <td>0.0</td>\n",
       "      <td>0.0</td>\n",
       "      <td>0.0</td>\n",
       "      <td>0.0</td>\n",
       "      <td>0.0</td>\n",
       "      <td>0.0</td>\n",
       "      <td>0.0</td>\n",
       "      <td>0.0</td>\n",
       "      <td>0.0</td>\n",
       "      <td>...</td>\n",
       "      <td>0.0</td>\n",
       "      <td>0.000000</td>\n",
       "      <td>0.0</td>\n",
       "      <td>0.0</td>\n",
       "      <td>0.0</td>\n",
       "      <td>0.0</td>\n",
       "      <td>0.0</td>\n",
       "      <td>0.0</td>\n",
       "      <td>0.0</td>\n",
       "      <td>0.0</td>\n",
       "    </tr>\n",
       "    <tr>\n",
       "      <th>213704</th>\n",
       "      <td>0.0</td>\n",
       "      <td>0.0</td>\n",
       "      <td>0.0</td>\n",
       "      <td>0.0</td>\n",
       "      <td>0.0</td>\n",
       "      <td>0.0</td>\n",
       "      <td>0.0</td>\n",
       "      <td>0.0</td>\n",
       "      <td>0.0</td>\n",
       "      <td>0.0</td>\n",
       "      <td>...</td>\n",
       "      <td>0.0</td>\n",
       "      <td>0.000000</td>\n",
       "      <td>0.0</td>\n",
       "      <td>0.0</td>\n",
       "      <td>0.0</td>\n",
       "      <td>0.0</td>\n",
       "      <td>0.0</td>\n",
       "      <td>0.0</td>\n",
       "      <td>0.0</td>\n",
       "      <td>0.0</td>\n",
       "    </tr>\n",
       "    <tr>\n",
       "      <th>213705</th>\n",
       "      <td>0.0</td>\n",
       "      <td>0.0</td>\n",
       "      <td>0.0</td>\n",
       "      <td>0.0</td>\n",
       "      <td>0.0</td>\n",
       "      <td>0.0</td>\n",
       "      <td>0.0</td>\n",
       "      <td>0.0</td>\n",
       "      <td>0.0</td>\n",
       "      <td>0.0</td>\n",
       "      <td>...</td>\n",
       "      <td>0.0</td>\n",
       "      <td>0.000000</td>\n",
       "      <td>0.0</td>\n",
       "      <td>0.0</td>\n",
       "      <td>0.0</td>\n",
       "      <td>0.0</td>\n",
       "      <td>0.0</td>\n",
       "      <td>0.0</td>\n",
       "      <td>0.0</td>\n",
       "      <td>0.0</td>\n",
       "    </tr>\n",
       "  </tbody>\n",
       "</table>\n",
       "<p>213706 rows × 3000 columns</p>\n",
       "</div>"
      ],
      "text/plain": [
       "        abdomen  abdomin  abil  abilifi  abl  ablat  abnorm  abort  about  \\\n",
       "0           0.0      0.0   0.0      0.0  0.0    0.0     0.0    0.0    0.0   \n",
       "1           0.0      0.0   0.0      0.0  0.0    0.0     0.0    0.0    0.0   \n",
       "2           0.0      0.0   0.0      0.0  0.0    0.0     0.0    0.0    0.0   \n",
       "3           0.0      0.0   0.0      0.0  0.0    0.0     0.0    0.0    0.0   \n",
       "4           0.0      0.0   0.0      0.0  0.0    0.0     0.0    0.0    0.0   \n",
       "...         ...      ...   ...      ...  ...    ...     ...    ...    ...   \n",
       "213701      0.0      0.0   0.0      0.0  0.0    0.0     0.0    0.0    0.0   \n",
       "213702      0.0      0.0   0.0      0.0  0.0    0.0     0.0    0.0    0.0   \n",
       "213703      0.0      0.0   0.0      0.0  0.0    0.0     0.0    0.0    0.0   \n",
       "213704      0.0      0.0   0.0      0.0  0.0    0.0     0.0    0.0    0.0   \n",
       "213705      0.0      0.0   0.0      0.0  0.0    0.0     0.0    0.0    0.0   \n",
       "\n",
       "        abreva  ...  zofran    zoloft  zolpidem  zombi  zomig  zone  zubsolv  \\\n",
       "0          0.0  ...     0.0  0.000000       0.0    0.0    0.0   0.0      0.0   \n",
       "1          0.0  ...     0.0  0.000000       0.0    0.0    0.0   0.0      0.0   \n",
       "2          0.0  ...     0.0  0.000000       0.0    0.0    0.0   0.0      0.0   \n",
       "3          0.0  ...     0.0  0.000000       0.0    0.0    0.0   0.0      0.0   \n",
       "4          0.0  ...     0.0  0.000000       0.0    0.0    0.0   0.0      0.0   \n",
       "...        ...  ...     ...       ...       ...    ...    ...   ...      ...   \n",
       "213701     0.0  ...     0.0  0.000000       0.0    0.0    0.0   0.0      0.0   \n",
       "213702     0.0  ...     0.0  0.124078       0.0    0.0    0.0   0.0      0.0   \n",
       "213703     0.0  ...     0.0  0.000000       0.0    0.0    0.0   0.0      0.0   \n",
       "213704     0.0  ...     0.0  0.000000       0.0    0.0    0.0   0.0      0.0   \n",
       "213705     0.0  ...     0.0  0.000000       0.0    0.0    0.0   0.0      0.0   \n",
       "\n",
       "        zyban  zyprexa  zyrtec  \n",
       "0         0.0      0.0     0.0  \n",
       "1         0.0      0.0     0.0  \n",
       "2         0.0      0.0     0.0  \n",
       "3         0.0      0.0     0.0  \n",
       "4         0.0      0.0     0.0  \n",
       "...       ...      ...     ...  \n",
       "213701    0.0      0.0     0.0  \n",
       "213702    0.0      0.0     0.0  \n",
       "213703    0.0      0.0     0.0  \n",
       "213704    0.0      0.0     0.0  \n",
       "213705    0.0      0.0     0.0  \n",
       "\n",
       "[213706 rows x 3000 columns]"
      ]
     },
     "execution_count": 79,
     "metadata": {},
     "output_type": "execute_result"
    }
   ],
   "source": [
    "x"
   ]
  },
  {
   "cell_type": "code",
   "execution_count": 80,
   "id": "12af32ef",
   "metadata": {},
   "outputs": [],
   "source": [
    "x.to_csv('tfidf_drug_review.csv')"
   ]
  },
  {
   "cell_type": "code",
   "execution_count": null,
   "id": "316c0c64",
   "metadata": {},
   "outputs": [],
   "source": [
    "## x = pd.read_csv(\"tfidf_drug_review.csv\", index_col = \"uniqueID\") #, low_memory=False, nrows=100"
   ]
  },
  {
   "cell_type": "markdown",
   "id": "f360adfc",
   "metadata": {},
   "source": [
    "## Modeling"
   ]
  },
  {
   "cell_type": "code",
   "execution_count": 81,
   "id": "f01c84cb",
   "metadata": {},
   "outputs": [],
   "source": [
    "y = data[\"rating\"].to_numpy()"
   ]
  },
  {
   "cell_type": "code",
   "execution_count": 82,
   "id": "2e6ae750",
   "metadata": {},
   "outputs": [
    {
     "data": {
      "text/plain": [
       "213706"
      ]
     },
     "execution_count": 82,
     "metadata": {},
     "output_type": "execute_result"
    }
   ],
   "source": [
    "len(y)"
   ]
  },
  {
   "cell_type": "code",
   "execution_count": 83,
   "id": "88ef9882",
   "metadata": {},
   "outputs": [],
   "source": [
    "xtrain, xtest, ytrain, ytest = train_test_split(x,y)"
   ]
  },
  {
   "cell_type": "code",
   "execution_count": 84,
   "id": "d6822348",
   "metadata": {},
   "outputs": [
    {
     "data": {
      "text/plain": [
       "(160279, 3000)"
      ]
     },
     "execution_count": 84,
     "metadata": {},
     "output_type": "execute_result"
    }
   ],
   "source": [
    "xtrain.shape"
   ]
  },
  {
   "cell_type": "code",
   "execution_count": 85,
   "id": "1fc0129b",
   "metadata": {},
   "outputs": [
    {
     "data": {
      "text/plain": [
       "(160279,)"
      ]
     },
     "execution_count": 85,
     "metadata": {},
     "output_type": "execute_result"
    }
   ],
   "source": [
    "ytrain.shape"
   ]
  },
  {
   "cell_type": "code",
   "execution_count": 86,
   "id": "725a45c4",
   "metadata": {},
   "outputs": [],
   "source": [
    "def model_metrics(test, pred):\n",
    "    mse = mean_squared_error(test, pred)\n",
    "    rmse = np.sqrt(mean_squared_error(test, pred))\n",
    "    acc = metrics.accuracy_score(test, pred)\n",
    "    print (\"             Mean Squared Error:\", mse)\n",
    "    print (\"        Root Mean Squared Error:\", rmse)\n",
    "    print ('          Accuracy of the model:', acc )\n"
   ]
  },
  {
   "cell_type": "markdown",
   "id": "0ae58bcc",
   "metadata": {},
   "source": [
    "### Naive Bayes "
   ]
  },
  {
   "cell_type": "code",
   "execution_count": 101,
   "id": "24ed718b",
   "metadata": {},
   "outputs": [
    {
     "name": "stdout",
     "output_type": "stream",
     "text": [
      "             Mean Squared Error: 0.7902371460123159\n",
      "        Root Mean Squared Error: 0.8889528367761227\n",
      "          Accuracy of the model: 0.7116439253560933\n"
     ]
    }
   ],
   "source": [
    "MNB_model = MultinomialNB()\n",
    "result = MNB_model.fit(xtrain, ytrain)\n",
    "y_pred_MultinomialNB = MNB_model.predict(xtest)\n",
    "model_metrics(ytest, y_pred_MultinomialNB)"
   ]
  },
  {
   "cell_type": "markdown",
   "id": "087249c1",
   "metadata": {},
   "source": [
    "### Logistic Regression "
   ]
  },
  {
   "cell_type": "code",
   "execution_count": 102,
   "id": "74bf7f80",
   "metadata": {},
   "outputs": [
    {
     "name": "stderr",
     "output_type": "stream",
     "text": [
      "/usr/local/lib/python3.9/site-packages/sklearn/linear_model/_logistic.py:814: ConvergenceWarning: lbfgs failed to converge (status=1):\n",
      "STOP: TOTAL NO. of ITERATIONS REACHED LIMIT.\n",
      "\n",
      "Increase the number of iterations (max_iter) or scale the data as shown in:\n",
      "    https://scikit-learn.org/stable/modules/preprocessing.html\n",
      "Please also refer to the documentation for alternative solver options:\n",
      "    https://scikit-learn.org/stable/modules/linear_model.html#logistic-regression\n",
      "  n_iter_i = _check_optimize_result(\n"
     ]
    },
    {
     "name": "stdout",
     "output_type": "stream",
     "text": [
      "             Mean Squared Error: 0.5413180601568496\n",
      "        Root Mean Squared Error: 0.7357432025896329\n",
      "          Accuracy of the model: 0.7694798510116607\n"
     ]
    }
   ],
   "source": [
    "logreg = LogisticRegression()\n",
    "logreg.fit(xtrain, ytrain)\n",
    "y_pred_LR = logreg.predict(xtest)\n",
    "model_metrics(ytest, y_pred_LR)"
   ]
  },
  {
   "cell_type": "markdown",
   "id": "01a596e4",
   "metadata": {},
   "source": [
    "### KNN"
   ]
  },
  {
   "cell_type": "code",
   "execution_count": 106,
   "id": "3b5fcaa2",
   "metadata": {},
   "outputs": [
    {
     "name": "stdout",
     "output_type": "stream",
     "text": [
      "             Mean Squared Error: 0.38430007299679936\n",
      "        Root Mean Squared Error: 0.6199194084691972\n",
      "          Accuracy of the model: 0.863720590712561\n"
     ]
    }
   ],
   "source": [
    "knn = KNeighborsClassifier(n_neighbors=1)\n",
    "knn.fit(xtrain, ytrain)\n",
    "y_pred_knn = knn.predict(xtest)\n",
    "model_metrics(ytest, y_pred_knn)"
   ]
  },
  {
   "cell_type": "code",
   "execution_count": 104,
   "id": "31040896",
   "metadata": {},
   "outputs": [
    {
     "name": "stdout",
     "output_type": "stream",
     "text": [
      "             Mean Squared Error: 1.0018529956763433\n",
      "        Root Mean Squared Error: 1.0009260690362418\n",
      "          Accuracy of the model: 0.7038576000898422\n"
     ]
    }
   ],
   "source": [
    "knn = KNeighborsClassifier(n_neighbors=2)\n",
    "knn.fit(xtrain, ytrain)\n",
    "y_pred_knn2 = knn.predict(xtest)\n",
    "model_metrics(ytest, y_pred_knn)"
   ]
  },
  {
   "cell_type": "code",
   "execution_count": 105,
   "id": "d88355ba",
   "metadata": {},
   "outputs": [
    {
     "name": "stdout",
     "output_type": "stream",
     "text": [
      "             Mean Squared Error: 1.0848073071667883\n",
      "        Root Mean Squared Error: 1.041540833173039\n",
      "          Accuracy of the model: 0.6349411346323021\n"
     ]
    }
   ],
   "source": [
    "knn = KNeighborsClassifier(n_neighbors=3)\n",
    "knn.fit(xtrain, ytrain)\n",
    "y_pred_knn3 = knn.predict(xtest)\n",
    "model_metrics(ytest, y_pred_knn)"
   ]
  },
  {
   "cell_type": "code",
   "execution_count": null,
   "id": "bf8b5c7f",
   "metadata": {},
   "outputs": [],
   "source": [
    "#k_values = range(6,20)\n",
    "#scores = []\n",
    "## look for best N\n",
    "#for k in k_values:\n",
    "#    knn = KNeighborsClassifier(n_neighbors=k)\n",
    "#    knn.fit(xtrain, ytrain)\n",
    "#    y_pred = knn.predict(xtest)\n",
    "#    scores.append(metrics.accuracy_score(ytest, y_pred))\n",
    "#\n",
    "#print(scores)"
   ]
  },
  {
   "cell_type": "code",
   "execution_count": null,
   "id": "c22cb440",
   "metadata": {},
   "outputs": [],
   "source": [
    "## allow plots to appear within the notebook\n",
    "#%matplotlib inline\n",
    "## plot the relationship between K and testing accuracy\n",
    "## plt.plot(x_axis, y_axis)\n",
    "#plt.plot(k_values, scores)\n",
    "#plt.xlabel('Value of K for KNN')\n",
    "#plt.ylabel('Testing Accuracy')"
   ]
  },
  {
   "cell_type": "markdown",
   "id": "6a1bafcd",
   "metadata": {},
   "source": [
    "### Decision Tree"
   ]
  },
  {
   "cell_type": "code",
   "execution_count": 89,
   "id": "9d0b87fe",
   "metadata": {},
   "outputs": [
    {
     "name": "stdout",
     "output_type": "stream",
     "text": [
      "             Mean Squared Error: 0.38214760327175396\n",
      "        Root Mean Squared Error: 0.6181808823247076\n",
      "          Accuracy of the model: 0.8463885301439347\n"
     ]
    }
   ],
   "source": [
    "decision_tree = DecisionTreeClassifier()\n",
    "decision_tree.fit(xtrain,ytrain)\n",
    "y_pred_dt=decision_tree.predict(xtest)\n",
    "model_metrics(ytest, y_pred_dt)"
   ]
  },
  {
   "cell_type": "markdown",
   "id": "80b02698",
   "metadata": {},
   "source": [
    "### Random Forest"
   ]
  },
  {
   "cell_type": "code",
   "execution_count": 88,
   "id": "ce7dd0f8",
   "metadata": {},
   "outputs": [
    {
     "name": "stdout",
     "output_type": "stream",
     "text": [
      "             Mean Squared Error: 0.27881033934153143\n",
      "        Root Mean Squared Error: 0.5280249419691568\n",
      "          Accuracy of the model: 0.8936305613266701\n"
     ]
    }
   ],
   "source": [
    "#kfold = model_selection.KFold(n_splits=10, random_state=seed)\n",
    "random_forest = RandomForestClassifier(n_estimators=100, max_features=100)\n",
    "random_forest.fit(xtrain, ytrain)\n",
    "y_pred_rf = random_forest.predict(xtest)\n",
    "model_metrics(ytest, y_pred_rf)\n",
    "#results = model_selection.cross_val_score(model, X, Y, cv=kfold)\n",
    "#print(results.mean())"
   ]
  },
  {
   "cell_type": "markdown",
   "id": "59067cd0",
   "metadata": {},
   "source": [
    "### XGBoost "
   ]
  },
  {
   "cell_type": "code",
   "execution_count": 90,
   "id": "78b143e1",
   "metadata": {},
   "outputs": [
    {
     "name": "stderr",
     "output_type": "stream",
     "text": [
      "/usr/local/lib/python3.9/site-packages/xgboost/sklearn.py:1224: UserWarning: The use of label encoder in XGBClassifier is deprecated and will be removed in a future release. To remove this warning, do the following: 1) Pass option use_label_encoder=False when constructing XGBClassifier object; and 2) Encode your labels (y) as integers starting with 0, i.e. 0, 1, 2, ..., [num_class - 1].\n",
      "  warnings.warn(label_encoder_deprecation_msg, UserWarning)\n",
      "/usr/local/lib/python3.9/site-packages/xgboost/data.py:262: FutureWarning: pandas.Int64Index is deprecated and will be removed from pandas in a future version. Use pandas.Index with the appropriate dtype instead.\n",
      "  elif isinstance(data.columns, (pd.Int64Index, pd.RangeIndex)):\n"
     ]
    },
    {
     "name": "stdout",
     "output_type": "stream",
     "text": [
      "[12:11:22] WARNING: /Users/runner/work/xgboost/xgboost/src/learner.cc:1115: Starting in XGBoost 1.3.0, the default evaluation metric used with the objective 'multi:softprob' was changed from 'merror' to 'mlogloss'. Explicitly set eval_metric if you'd like to restore the old behavior.\n",
      "             Mean Squared Error: 0.572032867276845\n",
      "        Root Mean Squared Error: 0.7563285445339512\n",
      "          Accuracy of the model: 0.769592153779924\n"
     ]
    }
   ],
   "source": [
    "xgb_model = XGBClassifier(random_state = 0 )\n",
    "xgb_model.fit(xtrain, ytrain)\n",
    "y_pred_xgb = xgb_model.predict(xtest)\n",
    "model_metrics(ytest, y_pred_xgb)"
   ]
  },
  {
   "cell_type": "code",
   "execution_count": 99,
   "id": "f7239d9e",
   "metadata": {},
   "outputs": [
    {
     "data": {
      "text/plain": [
       "53426"
      ]
     },
     "execution_count": 99,
     "metadata": {},
     "output_type": "execute_result"
    }
   ],
   "source": [
    "len(Max_Vot_pred)"
   ]
  },
  {
   "cell_type": "markdown",
   "id": "789dcb40",
   "metadata": {},
   "source": [
    "### Max Voting"
   ]
  },
  {
   "cell_type": "code",
   "execution_count": 100,
   "id": "ee185f5e",
   "metadata": {},
   "outputs": [
    {
     "name": "stdout",
     "output_type": "stream",
     "text": [
      "             Mean Squared Error: 0.26192748984595804\n",
      "        Root Mean Squared Error: 0.511788520627376\n",
      "          Accuracy of the model: 0.8978231980084975\n"
     ]
    }
   ],
   "source": [
    "Max_Vot_pred = np.array([])\n",
    "for i in range(0,len(xtest)):\n",
    "    Max_Vot_pred = np.append(Max_Vot_pred, stats.mode([y_pred_xgb[i], y_pred_dt[i], y_pred_rf[i]]).mode)\n",
    "    \n",
    "model_metrics(ytest, Max_Vot_pred)"
   ]
  },
  {
   "cell_type": "code",
   "execution_count": 160,
   "id": "cb6ca622",
   "metadata": {},
   "outputs": [
    {
     "name": "stdout",
     "output_type": "stream",
     "text": [
      "             Mean Squared Error: 0.27188500196529847\n",
      "        Root Mean Squared Error: 0.5214259314277517\n",
      "          Accuracy of the model: 0.8946038519849514\n"
     ]
    }
   ],
   "source": [
    "Max_Vot_pred = np.array([])\n",
    "for i in range(0,len(xtest)):\n",
    "    Max_Vot_pred = np.append(Max_Vot_pred, stats.mode([y_pred_LR[i], y_pred_dt[i], y_pred_knn[i]]).mode)\n",
    "    \n",
    "model_metrics(ytest, Max_Vot_pred)"
   ]
  },
  {
   "cell_type": "markdown",
   "id": "10d98bea",
   "metadata": {},
   "source": [
    "## Model Evaluation"
   ]
  },
  {
   "cell_type": "code",
   "execution_count": null,
   "id": "01216c34",
   "metadata": {},
   "outputs": [],
   "source": [
    "def evaluate(model, test_features, test_labels):\n",
    "    predictions = model.predict(test_features)\n",
    "    errors = abs(predictions - test_labels)\n",
    "    mape = 100 * np.mean(errors / test_labels)\n",
    "    accuracy = 100 - mape\n",
    "    print('Model Performance')\n",
    "    print('Average Error: {:0.4f} degrees.'.format(np.mean(errors)))\n",
    "    print('Accuracy = {:0.2f}%.'.format(accuracy))\n",
    "   \n",
    "    return accuracy\n",
    "base_model = RandomForestRegressor(n_estimators = 10, random_state = 42)\n",
    "base_model.fit(train_features, train_labels)\n",
    "base_accuracy = evaluate(base_model, test_features, test_labels)\n",
    "\n",
    "best_random = rf_random.best_estimator_\n",
    "random_accuracy = evaluate(best_random, test_features, test_labels)\n",
    "\n",
    "print('Improvement of {:0.2f}%.'.format( 100 * (random_accuracy - base_accuracy) / base_accuracy))\n"
   ]
  },
  {
   "cell_type": "markdown",
   "id": "64061a8c",
   "metadata": {},
   "source": [
    "## Model Evaluation "
   ]
  },
  {
   "cell_type": "code",
   "execution_count": 150,
   "id": "ba399d05",
   "metadata": {},
   "outputs": [],
   "source": [
    "def model_evaluation(predicted_y):\n",
    "    confusion = confusion_matrix(ytest, predicted_y)\n",
    "    print('Confusion Matrix\\n')\n",
    "    print(confusion)\n",
    "\n",
    "    #importing accuracy_score, precision_score, recall_score, f1_score\n",
    "    print('\\nAccuracy: {:.2f}\\n'.format(accuracy_score(ytest, predicted_y)))\n",
    "\n",
    "    print('Micro Precision: {:.2f}'.format(precision_score(ytest, predicted_y, average='micro')))\n",
    "    print('Micro Recall: {:.2f}'.format(recall_score(ytest, predicted_y, average='micro')))\n",
    "    print('Micro F1-score: {:.2f}\\n'.format(f1_score(ytest, predicted_y, average='micro')))\n",
    "\n",
    "    print('Macro Precision: {:.2f}'.format(precision_score(ytest, predicted_y, average='macro')))\n",
    "    print('Macro Recall: {:.2f}'.format(recall_score(ytest, predicted_y, average='macro')))\n",
    "    print('Macro F1-score: {:.2f}\\n'.format(f1_score(ytest, predicted_y, average='macro')))\n",
    "\n",
    "    print('Weighted Precision: {:.2f}'.format(precision_score(ytest, predicted_y, average='weighted')))\n",
    "    print('Weighted Recall: {:.2f}'.format(recall_score(ytest, predicted_y, average='weighted')))\n",
    "    print('Weighted F1-score: {:.2f}'.format(f1_score(ytest, predicted_y, average='weighted')))\n",
    "\n",
    "    print('\\nClassification Report\\n')\n",
    "    print(classification_report(ytest, predicted_y, target_names=['negative', 'neutral', 'positive']))\n",
    "    "
   ]
  },
  {
   "cell_type": "markdown",
   "id": "ef1b9ab3",
   "metadata": {},
   "source": [
    "### Naive Bayes"
   ]
  },
  {
   "cell_type": "code",
   "execution_count": 152,
   "id": "ce59996e",
   "metadata": {},
   "outputs": [
    {
     "name": "stdout",
     "output_type": "stream",
     "text": [
      "Confusion Matrix\n",
      "\n",
      "[[ 3077     3  8589]\n",
      " [  471     9  5987]\n",
      " [  349     7 34935]]\n",
      "\n",
      "Accuracy: 0.71\n",
      "\n",
      "Micro Precision: 0.71\n",
      "Micro Recall: 0.71\n",
      "Micro F1-score: 0.71\n",
      "\n",
      "Macro Precision: 0.66\n",
      "Macro Recall: 0.42\n",
      "Macro F1-score: 0.41\n",
      "\n",
      "Weighted Precision: 0.70\n",
      "Weighted Recall: 0.71\n",
      "Weighted F1-score: 0.63\n",
      "\n",
      "Classification Report\n",
      "\n",
      "              precision    recall  f1-score   support\n",
      "\n",
      "    negative       0.79      0.26      0.40     11669\n",
      "     neutral       0.47      0.00      0.00      6467\n",
      "    positive       0.71      0.99      0.82     35291\n",
      "\n",
      "    accuracy                           0.71     53427\n",
      "   macro avg       0.66      0.42      0.41     53427\n",
      "weighted avg       0.70      0.71      0.63     53427\n",
      "\n"
     ]
    }
   ],
   "source": [
    "model_evaluation(y_pred_MultinomialNB)"
   ]
  },
  {
   "cell_type": "markdown",
   "id": "ce591fa7",
   "metadata": {},
   "source": [
    "### Logistic Regression"
   ]
  },
  {
   "cell_type": "code",
   "execution_count": 153,
   "id": "aa38d76f",
   "metadata": {},
   "outputs": [
    {
     "name": "stdout",
     "output_type": "stream",
     "text": [
      "Confusion Matrix\n",
      "\n",
      "[[ 7530   423  3716]\n",
      " [ 1734   688  4045]\n",
      " [ 1819   579 32893]]\n",
      "\n",
      "Accuracy: 0.77\n",
      "\n",
      "Micro Precision: 0.77\n",
      "Micro Recall: 0.77\n",
      "Micro F1-score: 0.77\n",
      "\n",
      "Macro Precision: 0.63\n",
      "Macro Recall: 0.56\n",
      "Macro F1-score: 0.57\n",
      "\n",
      "Weighted Precision: 0.73\n",
      "Weighted Recall: 0.77\n",
      "Weighted F1-score: 0.74\n",
      "\n",
      "Classification Report\n",
      "\n",
      "              precision    recall  f1-score   support\n",
      "\n",
      "    negative       0.68      0.65      0.66     11669\n",
      "     neutral       0.41      0.11      0.17      6467\n",
      "    positive       0.81      0.93      0.87     35291\n",
      "\n",
      "    accuracy                           0.77     53427\n",
      "   macro avg       0.63      0.56      0.57     53427\n",
      "weighted avg       0.73      0.77      0.74     53427\n",
      "\n"
     ]
    }
   ],
   "source": [
    "model_evaluation(y_pred_LR)"
   ]
  },
  {
   "cell_type": "markdown",
   "id": "4e371c0a",
   "metadata": {},
   "source": [
    "### KNN with K= 1"
   ]
  },
  {
   "cell_type": "code",
   "execution_count": 154,
   "id": "d3a962ff",
   "metadata": {},
   "outputs": [
    {
     "name": "stdout",
     "output_type": "stream",
     "text": [
      "Confusion Matrix\n",
      "\n",
      "[[ 7442    93  4134]\n",
      " [   91  3899  2477]\n",
      " [  283   203 34805]]\n",
      "\n",
      "Accuracy: 0.86\n",
      "\n",
      "Micro Precision: 0.86\n",
      "Micro Recall: 0.86\n",
      "Micro F1-score: 0.86\n",
      "\n",
      "Macro Precision: 0.91\n",
      "Macro Recall: 0.74\n",
      "Macro F1-score: 0.80\n",
      "\n",
      "Weighted Precision: 0.88\n",
      "Weighted Recall: 0.86\n",
      "Weighted F1-score: 0.85\n",
      "\n",
      "Classification Report\n",
      "\n",
      "              precision    recall  f1-score   support\n",
      "\n",
      "    negative       0.95      0.64      0.76     11669\n",
      "     neutral       0.93      0.60      0.73      6467\n",
      "    positive       0.84      0.99      0.91     35291\n",
      "\n",
      "    accuracy                           0.86     53427\n",
      "   macro avg       0.91      0.74      0.80     53427\n",
      "weighted avg       0.88      0.86      0.85     53427\n",
      "\n"
     ]
    }
   ],
   "source": [
    "model_evaluation(y_pred_knn)"
   ]
  },
  {
   "cell_type": "markdown",
   "id": "c7eb3d9d",
   "metadata": {},
   "source": [
    "### Decision Tree"
   ]
  },
  {
   "cell_type": "code",
   "execution_count": 155,
   "id": "9eba645b",
   "metadata": {},
   "outputs": [
    {
     "name": "stdout",
     "output_type": "stream",
     "text": [
      "Confusion Matrix\n",
      "\n",
      "[[ 9094   592  1983]\n",
      " [  719  4228  1520]\n",
      " [ 2087  1306 31898]]\n",
      "\n",
      "Accuracy: 0.85\n",
      "\n",
      "Micro Precision: 0.85\n",
      "Micro Recall: 0.85\n",
      "Micro F1-score: 0.85\n",
      "\n",
      "Macro Precision: 0.79\n",
      "Macro Recall: 0.78\n",
      "Macro F1-score: 0.78\n",
      "\n",
      "Weighted Precision: 0.85\n",
      "Weighted Recall: 0.85\n",
      "Weighted F1-score: 0.85\n",
      "\n",
      "Classification Report\n",
      "\n",
      "              precision    recall  f1-score   support\n",
      "\n",
      "    negative       0.76      0.78      0.77     11669\n",
      "     neutral       0.69      0.65      0.67      6467\n",
      "    positive       0.90      0.90      0.90     35291\n",
      "\n",
      "    accuracy                           0.85     53427\n",
      "   macro avg       0.79      0.78      0.78     53427\n",
      "weighted avg       0.85      0.85      0.85     53427\n",
      "\n"
     ]
    }
   ],
   "source": [
    "model_evaluation(y_pred_dt)"
   ]
  },
  {
   "cell_type": "markdown",
   "id": "7e93d1ba",
   "metadata": {},
   "source": [
    "### Random Forest"
   ]
  },
  {
   "cell_type": "code",
   "execution_count": 156,
   "id": "e7da4368",
   "metadata": {},
   "outputs": [
    {
     "name": "stdout",
     "output_type": "stream",
     "text": [
      "Confusion Matrix\n",
      "\n",
      "[[ 8989     1  2679]\n",
      " [  357  3864  2246]\n",
      " [  392     8 34891]]\n",
      "\n",
      "Accuracy: 0.89\n",
      "\n",
      "Micro Precision: 0.89\n",
      "Micro Recall: 0.89\n",
      "Micro F1-score: 0.89\n",
      "\n",
      "Macro Precision: 0.93\n",
      "Macro Recall: 0.79\n",
      "Macro F1-score: 0.84\n",
      "\n",
      "Weighted Precision: 0.90\n",
      "Weighted Recall: 0.89\n",
      "Weighted F1-score: 0.89\n",
      "\n",
      "Classification Report\n",
      "\n",
      "              precision    recall  f1-score   support\n",
      "\n",
      "    negative       0.92      0.77      0.84     11669\n",
      "     neutral       1.00      0.60      0.75      6467\n",
      "    positive       0.88      0.99      0.93     35291\n",
      "\n",
      "    accuracy                           0.89     53427\n",
      "   macro avg       0.93      0.79      0.84     53427\n",
      "weighted avg       0.90      0.89      0.89     53427\n",
      "\n"
     ]
    }
   ],
   "source": [
    "model_evaluation(y_pred_rf)"
   ]
  },
  {
   "cell_type": "markdown",
   "id": "a63c1bfb",
   "metadata": {},
   "source": [
    "### XGBoost"
   ]
  },
  {
   "cell_type": "code",
   "execution_count": 157,
   "id": "2cc6aa0f",
   "metadata": {},
   "outputs": [
    {
     "name": "stdout",
     "output_type": "stream",
     "text": [
      "Confusion Matrix\n",
      "\n",
      "[[ 6390   160  5119]\n",
      " [ 1191   565  4711]\n",
      " [  965   164 34162]]\n",
      "\n",
      "Accuracy: 0.77\n",
      "\n",
      "Micro Precision: 0.77\n",
      "Micro Recall: 0.77\n",
      "Micro F1-score: 0.77\n",
      "\n",
      "Macro Precision: 0.72\n",
      "Macro Recall: 0.53\n",
      "Macro F1-score: 0.55\n",
      "\n",
      "Weighted Precision: 0.75\n",
      "Weighted Recall: 0.77\n",
      "Weighted F1-score: 0.73\n",
      "\n",
      "Classification Report\n",
      "\n",
      "              precision    recall  f1-score   support\n",
      "\n",
      "    negative       0.75      0.55      0.63     11669\n",
      "     neutral       0.64      0.09      0.15      6467\n",
      "    positive       0.78      0.97      0.86     35291\n",
      "\n",
      "    accuracy                           0.77     53427\n",
      "   macro avg       0.72      0.53      0.55     53427\n",
      "weighted avg       0.75      0.77      0.73     53427\n",
      "\n"
     ]
    }
   ],
   "source": [
    "model_evaluation(y_pred_xgb)"
   ]
  },
  {
   "cell_type": "markdown",
   "id": "b8425459",
   "metadata": {},
   "source": [
    "### Max Voting "
   ]
  },
  {
   "cell_type": "code",
   "execution_count": 161,
   "id": "6b24181e",
   "metadata": {},
   "outputs": [
    {
     "name": "stdout",
     "output_type": "stream",
     "text": [
      "Confusion Matrix\n",
      "\n",
      "[[ 9204    44  2421]\n",
      " [  525  3910  2032]\n",
      " [  544    65 34682]]\n",
      "\n",
      "Accuracy: 0.89\n",
      "\n",
      "Micro Precision: 0.89\n",
      "Micro Recall: 0.89\n",
      "Micro F1-score: 0.89\n",
      "\n",
      "Macro Precision: 0.92\n",
      "Macro Recall: 0.79\n",
      "Macro F1-score: 0.84\n",
      "\n",
      "Weighted Precision: 0.90\n",
      "Weighted Recall: 0.89\n",
      "Weighted F1-score: 0.89\n",
      "\n",
      "Classification Report\n",
      "\n",
      "              precision    recall  f1-score   support\n",
      "\n",
      "    negative       0.90      0.79      0.84     11669\n",
      "     neutral       0.97      0.60      0.75      6467\n",
      "    positive       0.89      0.98      0.93     35291\n",
      "\n",
      "    accuracy                           0.89     53427\n",
      "   macro avg       0.92      0.79      0.84     53427\n",
      "weighted avg       0.90      0.89      0.89     53427\n",
      "\n"
     ]
    }
   ],
   "source": [
    "model_evaluation(Max_Vot_pred)"
   ]
  },
  {
   "cell_type": "code",
   "execution_count": null,
   "id": "df8a30d4",
   "metadata": {},
   "outputs": [],
   "source": [
    "model_evaluation(Max_Vot_pred)"
   ]
  },
  {
   "cell_type": "markdown",
   "id": "1fb29988",
   "metadata": {},
   "source": [
    "# The End "
   ]
  },
  {
   "cell_type": "code",
   "execution_count": null,
   "id": "b9d23d56",
   "metadata": {},
   "outputs": [],
   "source": []
  }
 ],
 "metadata": {
  "kernelspec": {
   "display_name": "Python 3 (ipykernel)",
   "language": "python",
   "name": "python3"
  },
  "language_info": {
   "codemirror_mode": {
    "name": "ipython",
    "version": 3
   },
   "file_extension": ".py",
   "mimetype": "text/x-python",
   "name": "python",
   "nbconvert_exporter": "python",
   "pygments_lexer": "ipython3",
   "version": "3.9.10"
  }
 },
 "nbformat": 4,
 "nbformat_minor": 5
}
